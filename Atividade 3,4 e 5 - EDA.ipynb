{
 "cells": [
  {
   "cell_type": "code",
   "execution_count": 1,
   "id": "1f0985ce",
   "metadata": {},
   "outputs": [],
   "source": [
    "# Bibliotecas utilizadas\n",
    "import numpy as np\n",
    "import pyodbc # Conector do SQL Server\n",
    "import pandas as pd\n",
    "import matplotlib.pyplot as plt\n",
    "import colorsys\n",
    "plt.style.use('seaborn-talk')\n",
    "\n",
    "import seaborn as sns\n",
    "sns.set_theme(context = 'paper', style = 'darkgrid', palette = 'pastel')\n",
    "\n",
    "import warnings\n",
    "warnings.filterwarnings(\"ignore\")\n",
    "\n"
   ]
  },
  {
   "cell_type": "code",
   "execution_count": 2,
   "id": "4d95f33e",
   "metadata": {},
   "outputs": [],
   "source": [
    "df = pd.read_csv('C:/DataScience/portfolio_projects/python/IPOG/Mod06/data/dados-delivery.csv')"
   ]
  },
  {
   "cell_type": "code",
   "execution_count": 3,
   "id": "32d67b0c",
   "metadata": {},
   "outputs": [],
   "source": [
    "df_copia = df.copy()\n"
   ]
  },
  {
   "cell_type": "markdown",
   "id": "b61f711a",
   "metadata": {},
   "source": [
    "1. Quais são os produtos mais pedidos?\n",
    "2. Qual é o tempo médio de atraso para cada produto cuja entrega atrasa?\n",
    "3. Qual a taxa média de atraso nas entregas (percentual de aumento em relação ao previsto)?\n",
    "4. Quais produtos mais atrasam?\n",
    "5. Quais dias da semana mais têm pedidos? Há correlação com atrasos?\n",
    "6. Quais variáveis possuem correlação?\n",
    "7. A maior parte dos pedidos são feitos em qual horário?\n",
    "8. Quais campos possuem valores ausentes? Como preenchê-los?\n",
    "9. As avaliações dos pedidos podem ser explicadas pela variável atraso?"
   ]
  },
  {
   "cell_type": "code",
   "execution_count": 4,
   "id": "1b556905",
   "metadata": {
    "scrolled": false
   },
   "outputs": [
    {
     "data": {
      "text/html": [
       "<div>\n",
       "<style scoped>\n",
       "    .dataframe tbody tr th:only-of-type {\n",
       "        vertical-align: middle;\n",
       "    }\n",
       "\n",
       "    .dataframe tbody tr th {\n",
       "        vertical-align: top;\n",
       "    }\n",
       "\n",
       "    .dataframe thead th {\n",
       "        text-align: right;\n",
       "    }\n",
       "</style>\n",
       "<table border=\"1\" class=\"dataframe\">\n",
       "  <thead>\n",
       "    <tr style=\"text-align: right;\">\n",
       "      <th></th>\n",
       "      <th>Produto</th>\n",
       "      <th>dia-da-semana</th>\n",
       "      <th>hora-do-pedido</th>\n",
       "      <th>tempo-entrega</th>\n",
       "      <th>tempo-entrega-real</th>\n",
       "      <th>data-pedido</th>\n",
       "      <th>valor</th>\n",
       "      <th>atraso</th>\n",
       "      <th>avaliacao</th>\n",
       "    </tr>\n",
       "  </thead>\n",
       "  <tbody>\n",
       "    <tr>\n",
       "      <th>0</th>\n",
       "      <td>A</td>\n",
       "      <td>4.0</td>\n",
       "      <td>14.0</td>\n",
       "      <td>15.0</td>\n",
       "      <td>15.0</td>\n",
       "      <td>12/24/2020</td>\n",
       "      <td>39.0</td>\n",
       "      <td>0.0</td>\n",
       "      <td>10.0</td>\n",
       "    </tr>\n",
       "    <tr>\n",
       "      <th>1</th>\n",
       "      <td>A</td>\n",
       "      <td>7.0</td>\n",
       "      <td>13.0</td>\n",
       "      <td>15.0</td>\n",
       "      <td>60.0</td>\n",
       "      <td>12/16/2020</td>\n",
       "      <td>10.0</td>\n",
       "      <td>1.0</td>\n",
       "      <td>0.0</td>\n",
       "    </tr>\n",
       "    <tr>\n",
       "      <th>2</th>\n",
       "      <td>B</td>\n",
       "      <td>7.0</td>\n",
       "      <td>14.0</td>\n",
       "      <td>30.0</td>\n",
       "      <td>30.0</td>\n",
       "      <td>12/27/2020</td>\n",
       "      <td>30.0</td>\n",
       "      <td>0.0</td>\n",
       "      <td>9.0</td>\n",
       "    </tr>\n",
       "    <tr>\n",
       "      <th>3</th>\n",
       "      <td>A</td>\n",
       "      <td>3.0</td>\n",
       "      <td>13.0</td>\n",
       "      <td>45.0</td>\n",
       "      <td>15.0</td>\n",
       "      <td>12/17/2020</td>\n",
       "      <td>44.0</td>\n",
       "      <td>0.0</td>\n",
       "      <td>8.0</td>\n",
       "    </tr>\n",
       "    <tr>\n",
       "      <th>4</th>\n",
       "      <td>B</td>\n",
       "      <td>6.0</td>\n",
       "      <td>13.0</td>\n",
       "      <td>60.0</td>\n",
       "      <td>75.0</td>\n",
       "      <td>12/18/2020</td>\n",
       "      <td>23.0</td>\n",
       "      <td>1.0</td>\n",
       "      <td>1.0</td>\n",
       "    </tr>\n",
       "  </tbody>\n",
       "</table>\n",
       "</div>"
      ],
      "text/plain": [
       "  Produto  dia-da-semana  hora-do-pedido  tempo-entrega  tempo-entrega-real  \\\n",
       "0       A            4.0            14.0           15.0                15.0   \n",
       "1       A            7.0            13.0           15.0                60.0   \n",
       "2       B            7.0            14.0           30.0                30.0   \n",
       "3       A            3.0            13.0           45.0                15.0   \n",
       "4       B            6.0            13.0           60.0                75.0   \n",
       "\n",
       "  data-pedido  valor  atraso  avaliacao  \n",
       "0  12/24/2020   39.0     0.0       10.0  \n",
       "1  12/16/2020   10.0     1.0        0.0  \n",
       "2  12/27/2020   30.0     0.0        9.0  \n",
       "3  12/17/2020   44.0     0.0        8.0  \n",
       "4  12/18/2020   23.0     1.0        1.0  "
      ]
     },
     "execution_count": 4,
     "metadata": {},
     "output_type": "execute_result"
    }
   ],
   "source": [
    "df.head(5)"
   ]
  },
  {
   "cell_type": "code",
   "execution_count": 5,
   "id": "9804b936",
   "metadata": {
    "scrolled": false
   },
   "outputs": [
    {
     "data": {
      "text/plain": [
       "['Produto',\n",
       " 'dia-da-semana',\n",
       " 'hora-do-pedido',\n",
       " 'tempo-entrega',\n",
       " 'tempo-entrega-real',\n",
       " 'data-pedido',\n",
       " 'valor',\n",
       " 'atraso',\n",
       " 'avaliacao']"
      ]
     },
     "execution_count": 5,
     "metadata": {},
     "output_type": "execute_result"
    }
   ],
   "source": [
    "list(df)"
   ]
  },
  {
   "cell_type": "code",
   "execution_count": 6,
   "id": "5c35a7d1",
   "metadata": {
    "scrolled": false
   },
   "outputs": [
    {
     "data": {
      "text/html": [
       "<div>\n",
       "<style scoped>\n",
       "    .dataframe tbody tr th:only-of-type {\n",
       "        vertical-align: middle;\n",
       "    }\n",
       "\n",
       "    .dataframe tbody tr th {\n",
       "        vertical-align: top;\n",
       "    }\n",
       "\n",
       "    .dataframe thead th {\n",
       "        text-align: right;\n",
       "    }\n",
       "</style>\n",
       "<table border=\"1\" class=\"dataframe\">\n",
       "  <thead>\n",
       "    <tr style=\"text-align: right;\">\n",
       "      <th></th>\n",
       "      <th>dia-da-semana</th>\n",
       "      <th>hora-do-pedido</th>\n",
       "      <th>tempo-entrega</th>\n",
       "      <th>tempo-entrega-real</th>\n",
       "      <th>valor</th>\n",
       "      <th>atraso</th>\n",
       "      <th>avaliacao</th>\n",
       "    </tr>\n",
       "  </thead>\n",
       "  <tbody>\n",
       "    <tr>\n",
       "      <th>count</th>\n",
       "      <td>530.000000</td>\n",
       "      <td>530.000000</td>\n",
       "      <td>530.000000</td>\n",
       "      <td>530.000000</td>\n",
       "      <td>530.000000</td>\n",
       "      <td>530.000000</td>\n",
       "      <td>530.000000</td>\n",
       "    </tr>\n",
       "    <tr>\n",
       "      <th>mean</th>\n",
       "      <td>3.977358</td>\n",
       "      <td>15.049057</td>\n",
       "      <td>87.113208</td>\n",
       "      <td>87.377358</td>\n",
       "      <td>22.318868</td>\n",
       "      <td>0.484906</td>\n",
       "      <td>5.750943</td>\n",
       "    </tr>\n",
       "    <tr>\n",
       "      <th>std</th>\n",
       "      <td>2.075024</td>\n",
       "      <td>5.285556</td>\n",
       "      <td>51.656551</td>\n",
       "      <td>49.611049</td>\n",
       "      <td>20.016964</td>\n",
       "      <td>0.500244</td>\n",
       "      <td>3.568165</td>\n",
       "    </tr>\n",
       "    <tr>\n",
       "      <th>min</th>\n",
       "      <td>1.000000</td>\n",
       "      <td>0.000000</td>\n",
       "      <td>5.000000</td>\n",
       "      <td>5.000000</td>\n",
       "      <td>0.000000</td>\n",
       "      <td>0.000000</td>\n",
       "      <td>0.000000</td>\n",
       "    </tr>\n",
       "    <tr>\n",
       "      <th>25%</th>\n",
       "      <td>2.000000</td>\n",
       "      <td>12.000000</td>\n",
       "      <td>40.000000</td>\n",
       "      <td>45.000000</td>\n",
       "      <td>8.000000</td>\n",
       "      <td>0.000000</td>\n",
       "      <td>2.000000</td>\n",
       "    </tr>\n",
       "    <tr>\n",
       "      <th>50%</th>\n",
       "      <td>4.000000</td>\n",
       "      <td>14.000000</td>\n",
       "      <td>85.000000</td>\n",
       "      <td>80.000000</td>\n",
       "      <td>16.000000</td>\n",
       "      <td>0.000000</td>\n",
       "      <td>8.000000</td>\n",
       "    </tr>\n",
       "    <tr>\n",
       "      <th>75%</th>\n",
       "      <td>6.000000</td>\n",
       "      <td>20.000000</td>\n",
       "      <td>130.000000</td>\n",
       "      <td>130.000000</td>\n",
       "      <td>31.000000</td>\n",
       "      <td>1.000000</td>\n",
       "      <td>9.000000</td>\n",
       "    </tr>\n",
       "    <tr>\n",
       "      <th>max</th>\n",
       "      <td>7.000000</td>\n",
       "      <td>23.000000</td>\n",
       "      <td>180.000000</td>\n",
       "      <td>180.000000</td>\n",
       "      <td>97.000000</td>\n",
       "      <td>1.000000</td>\n",
       "      <td>10.000000</td>\n",
       "    </tr>\n",
       "  </tbody>\n",
       "</table>\n",
       "</div>"
      ],
      "text/plain": [
       "       dia-da-semana  hora-do-pedido  tempo-entrega  tempo-entrega-real  \\\n",
       "count     530.000000      530.000000     530.000000          530.000000   \n",
       "mean        3.977358       15.049057      87.113208           87.377358   \n",
       "std         2.075024        5.285556      51.656551           49.611049   \n",
       "min         1.000000        0.000000       5.000000            5.000000   \n",
       "25%         2.000000       12.000000      40.000000           45.000000   \n",
       "50%         4.000000       14.000000      85.000000           80.000000   \n",
       "75%         6.000000       20.000000     130.000000          130.000000   \n",
       "max         7.000000       23.000000     180.000000          180.000000   \n",
       "\n",
       "            valor      atraso   avaliacao  \n",
       "count  530.000000  530.000000  530.000000  \n",
       "mean    22.318868    0.484906    5.750943  \n",
       "std     20.016964    0.500244    3.568165  \n",
       "min      0.000000    0.000000    0.000000  \n",
       "25%      8.000000    0.000000    2.000000  \n",
       "50%     16.000000    0.000000    8.000000  \n",
       "75%     31.000000    1.000000    9.000000  \n",
       "max     97.000000    1.000000   10.000000  "
      ]
     },
     "execution_count": 6,
     "metadata": {},
     "output_type": "execute_result"
    }
   ],
   "source": [
    "df.describe()"
   ]
  },
  {
   "cell_type": "code",
   "execution_count": 7,
   "id": "58e8f582",
   "metadata": {},
   "outputs": [
    {
     "data": {
      "text/plain": [
       "Produto                object\n",
       "dia-da-semana         float64\n",
       "hora-do-pedido        float64\n",
       "tempo-entrega         float64\n",
       "tempo-entrega-real    float64\n",
       "data-pedido            object\n",
       "valor                 float64\n",
       "atraso                float64\n",
       "avaliacao             float64\n",
       "dtype: object"
      ]
     },
     "execution_count": 7,
     "metadata": {},
     "output_type": "execute_result"
    }
   ],
   "source": [
    "df.dtypes"
   ]
  },
  {
   "cell_type": "code",
   "execution_count": 8,
   "id": "27cc574e",
   "metadata": {
    "scrolled": true
   },
   "outputs": [
    {
     "data": {
      "text/plain": [
       "Produto               1\n",
       "dia-da-semana         2\n",
       "hora-do-pedido        2\n",
       "tempo-entrega         2\n",
       "tempo-entrega-real    2\n",
       "data-pedido           2\n",
       "valor                 2\n",
       "atraso                2\n",
       "avaliacao             2\n",
       "dtype: int64"
      ]
     },
     "execution_count": 8,
     "metadata": {},
     "output_type": "execute_result"
    }
   ],
   "source": [
    "df.isna().sum()"
   ]
  },
  {
   "cell_type": "code",
   "execution_count": 9,
   "id": "3e3369f9",
   "metadata": {},
   "outputs": [],
   "source": [
    "df = df.dropna()"
   ]
  },
  {
   "cell_type": "code",
   "execution_count": 10,
   "id": "2542dc1d",
   "metadata": {},
   "outputs": [
    {
     "data": {
      "text/html": [
       "<div>\n",
       "<style scoped>\n",
       "    .dataframe tbody tr th:only-of-type {\n",
       "        vertical-align: middle;\n",
       "    }\n",
       "\n",
       "    .dataframe tbody tr th {\n",
       "        vertical-align: top;\n",
       "    }\n",
       "\n",
       "    .dataframe thead th {\n",
       "        text-align: right;\n",
       "    }\n",
       "</style>\n",
       "<table border=\"1\" class=\"dataframe\">\n",
       "  <thead>\n",
       "    <tr style=\"text-align: right;\">\n",
       "      <th></th>\n",
       "      <th>Produto</th>\n",
       "      <th>dia-da-semana</th>\n",
       "      <th>hora-do-pedido</th>\n",
       "      <th>tempo-entrega</th>\n",
       "      <th>tempo-entrega-real</th>\n",
       "      <th>data-pedido</th>\n",
       "      <th>valor</th>\n",
       "      <th>atraso</th>\n",
       "      <th>avaliacao</th>\n",
       "    </tr>\n",
       "  </thead>\n",
       "  <tbody>\n",
       "    <tr>\n",
       "      <th>0</th>\n",
       "      <td>A</td>\n",
       "      <td>4.0</td>\n",
       "      <td>14.0</td>\n",
       "      <td>15.0</td>\n",
       "      <td>15.0</td>\n",
       "      <td>12/24/2020</td>\n",
       "      <td>39.0</td>\n",
       "      <td>0.0</td>\n",
       "      <td>10.0</td>\n",
       "    </tr>\n",
       "    <tr>\n",
       "      <th>1</th>\n",
       "      <td>A</td>\n",
       "      <td>7.0</td>\n",
       "      <td>13.0</td>\n",
       "      <td>15.0</td>\n",
       "      <td>60.0</td>\n",
       "      <td>12/16/2020</td>\n",
       "      <td>10.0</td>\n",
       "      <td>1.0</td>\n",
       "      <td>0.0</td>\n",
       "    </tr>\n",
       "    <tr>\n",
       "      <th>2</th>\n",
       "      <td>B</td>\n",
       "      <td>7.0</td>\n",
       "      <td>14.0</td>\n",
       "      <td>30.0</td>\n",
       "      <td>30.0</td>\n",
       "      <td>12/27/2020</td>\n",
       "      <td>30.0</td>\n",
       "      <td>0.0</td>\n",
       "      <td>9.0</td>\n",
       "    </tr>\n",
       "    <tr>\n",
       "      <th>3</th>\n",
       "      <td>A</td>\n",
       "      <td>3.0</td>\n",
       "      <td>13.0</td>\n",
       "      <td>45.0</td>\n",
       "      <td>15.0</td>\n",
       "      <td>12/17/2020</td>\n",
       "      <td>44.0</td>\n",
       "      <td>0.0</td>\n",
       "      <td>8.0</td>\n",
       "    </tr>\n",
       "    <tr>\n",
       "      <th>4</th>\n",
       "      <td>B</td>\n",
       "      <td>6.0</td>\n",
       "      <td>13.0</td>\n",
       "      <td>60.0</td>\n",
       "      <td>75.0</td>\n",
       "      <td>12/18/2020</td>\n",
       "      <td>23.0</td>\n",
       "      <td>1.0</td>\n",
       "      <td>1.0</td>\n",
       "    </tr>\n",
       "    <tr>\n",
       "      <th>...</th>\n",
       "      <td>...</td>\n",
       "      <td>...</td>\n",
       "      <td>...</td>\n",
       "      <td>...</td>\n",
       "      <td>...</td>\n",
       "      <td>...</td>\n",
       "      <td>...</td>\n",
       "      <td>...</td>\n",
       "      <td>...</td>\n",
       "    </tr>\n",
       "    <tr>\n",
       "      <th>525</th>\n",
       "      <td>G</td>\n",
       "      <td>5.0</td>\n",
       "      <td>21.0</td>\n",
       "      <td>50.0</td>\n",
       "      <td>130.0</td>\n",
       "      <td>12/23/2020</td>\n",
       "      <td>25.0</td>\n",
       "      <td>1.0</td>\n",
       "      <td>0.0</td>\n",
       "    </tr>\n",
       "    <tr>\n",
       "      <th>526</th>\n",
       "      <td>B</td>\n",
       "      <td>2.0</td>\n",
       "      <td>7.0</td>\n",
       "      <td>165.0</td>\n",
       "      <td>160.0</td>\n",
       "      <td>12/24/2020</td>\n",
       "      <td>97.0</td>\n",
       "      <td>0.0</td>\n",
       "      <td>8.0</td>\n",
       "    </tr>\n",
       "    <tr>\n",
       "      <th>527</th>\n",
       "      <td>F</td>\n",
       "      <td>1.0</td>\n",
       "      <td>5.0</td>\n",
       "      <td>35.0</td>\n",
       "      <td>60.0</td>\n",
       "      <td>12/8/2020</td>\n",
       "      <td>22.0</td>\n",
       "      <td>1.0</td>\n",
       "      <td>3.0</td>\n",
       "    </tr>\n",
       "    <tr>\n",
       "      <th>528</th>\n",
       "      <td>H</td>\n",
       "      <td>6.0</td>\n",
       "      <td>14.0</td>\n",
       "      <td>90.0</td>\n",
       "      <td>110.0</td>\n",
       "      <td>12/23/2020</td>\n",
       "      <td>72.0</td>\n",
       "      <td>1.0</td>\n",
       "      <td>0.0</td>\n",
       "    </tr>\n",
       "    <tr>\n",
       "      <th>529</th>\n",
       "      <td>E</td>\n",
       "      <td>6.0</td>\n",
       "      <td>1.0</td>\n",
       "      <td>95.0</td>\n",
       "      <td>125.0</td>\n",
       "      <td>12/10/2020</td>\n",
       "      <td>60.0</td>\n",
       "      <td>1.0</td>\n",
       "      <td>0.0</td>\n",
       "    </tr>\n",
       "  </tbody>\n",
       "</table>\n",
       "<p>530 rows × 9 columns</p>\n",
       "</div>"
      ],
      "text/plain": [
       "    Produto  dia-da-semana  hora-do-pedido  tempo-entrega  tempo-entrega-real  \\\n",
       "0         A            4.0            14.0           15.0                15.0   \n",
       "1         A            7.0            13.0           15.0                60.0   \n",
       "2         B            7.0            14.0           30.0                30.0   \n",
       "3         A            3.0            13.0           45.0                15.0   \n",
       "4         B            6.0            13.0           60.0                75.0   \n",
       "..      ...            ...             ...            ...                 ...   \n",
       "525       G            5.0            21.0           50.0               130.0   \n",
       "526       B            2.0             7.0          165.0               160.0   \n",
       "527       F            1.0             5.0           35.0                60.0   \n",
       "528       H            6.0            14.0           90.0               110.0   \n",
       "529       E            6.0             1.0           95.0               125.0   \n",
       "\n",
       "    data-pedido  valor  atraso  avaliacao  \n",
       "0    12/24/2020   39.0     0.0       10.0  \n",
       "1    12/16/2020   10.0     1.0        0.0  \n",
       "2    12/27/2020   30.0     0.0        9.0  \n",
       "3    12/17/2020   44.0     0.0        8.0  \n",
       "4    12/18/2020   23.0     1.0        1.0  \n",
       "..          ...    ...     ...        ...  \n",
       "525  12/23/2020   25.0     1.0        0.0  \n",
       "526  12/24/2020   97.0     0.0        8.0  \n",
       "527   12/8/2020   22.0     1.0        3.0  \n",
       "528  12/23/2020   72.0     1.0        0.0  \n",
       "529  12/10/2020   60.0     1.0        0.0  \n",
       "\n",
       "[530 rows x 9 columns]"
      ]
     },
     "execution_count": 10,
     "metadata": {},
     "output_type": "execute_result"
    }
   ],
   "source": [
    "df"
   ]
  },
  {
   "cell_type": "code",
   "execution_count": 11,
   "id": "2df474bc",
   "metadata": {
    "scrolled": true
   },
   "outputs": [
    {
     "data": {
      "text/plain": [
       "Produto               0\n",
       "dia-da-semana         0\n",
       "hora-do-pedido        0\n",
       "tempo-entrega         0\n",
       "tempo-entrega-real    0\n",
       "data-pedido           0\n",
       "valor                 0\n",
       "atraso                0\n",
       "avaliacao             0\n",
       "dtype: int64"
      ]
     },
     "execution_count": 11,
     "metadata": {},
     "output_type": "execute_result"
    }
   ],
   "source": [
    "df.isna().sum()"
   ]
  },
  {
   "cell_type": "code",
   "execution_count": 12,
   "id": "badb72cb",
   "metadata": {},
   "outputs": [
    {
     "data": {
      "text/plain": [
       "D    80\n",
       "B    73\n",
       "A    65\n",
       "G    59\n",
       "C    57\n",
       "F    57\n",
       "H    52\n",
       "I    45\n",
       "E    40\n",
       "X     1\n",
       "V     1\n",
       "Name: Produto, dtype: int64"
      ]
     },
     "execution_count": 12,
     "metadata": {},
     "output_type": "execute_result"
    }
   ],
   "source": [
    "df['Produto'].value_counts()"
   ]
  },
  {
   "cell_type": "markdown",
   "id": "51895c62",
   "metadata": {},
   "source": [
    "# EDA"
   ]
  },
  {
   "cell_type": "code",
   "execution_count": 13,
   "id": "157408d6",
   "metadata": {},
   "outputs": [
    {
     "data": {
      "text/plain": [
       "['Produto',\n",
       " 'dia-da-semana',\n",
       " 'hora-do-pedido',\n",
       " 'tempo-entrega',\n",
       " 'tempo-entrega-real',\n",
       " 'data-pedido',\n",
       " 'valor',\n",
       " 'atraso',\n",
       " 'avaliacao']"
      ]
     },
     "execution_count": 13,
     "metadata": {},
     "output_type": "execute_result"
    }
   ],
   "source": [
    "list(df)"
   ]
  },
  {
   "cell_type": "code",
   "execution_count": 14,
   "id": "e4fb2f86",
   "metadata": {},
   "outputs": [
    {
     "data": {
      "text/plain": [
       "<seaborn.axisgrid.PairGrid at 0x22572079e08>"
      ]
     },
     "execution_count": 14,
     "metadata": {},
     "output_type": "execute_result"
    },
    {
     "data": {
      "image/png": "[encoded data removed]",
      "text/plain": [
       "<Figure size 540x540 with 12 Axes>"
      ]
     },
     "metadata": {},
     "output_type": "display_data"
    }
   ],
   "source": [
    "sns.pairplot(df[['tempo-entrega','valor','avaliacao']])"
   ]
  },
  {
   "cell_type": "code",
   "execution_count": 15,
   "id": "1c1e894d",
   "metadata": {},
   "outputs": [
    {
     "data": {
      "text/plain": [
       "<AxesSubplot:title={'center':'Produtos Mais Pedidos no Período'}>"
      ]
     },
     "execution_count": 15,
     "metadata": {},
     "output_type": "execute_result"
    },
    {
     "data": {
      "image/png": "[encoded data removed]",
      "text/plain": [
       "<Figure size 748.8x514.8 with 1 Axes>"
      ]
     },
     "metadata": {},
     "output_type": "display_data"
    }
   ],
   "source": [
    "# 1. Quais são os produtos mais pedidos?\n",
    "df['Produto'].value_counts().sort_values(ascending = True).plot(kind = \"bar\", title = \"Produtos Mais Pedidos no Período\")"
   ]
  },
  {
   "cell_type": "code",
   "execution_count": 16,
   "id": "2649ce44",
   "metadata": {
    "scrolled": false
   },
   "outputs": [
    {
     "data": {
      "text/plain": [
       "<AxesSubplot:xlabel='Produto'>"
      ]
     },
     "execution_count": 16,
     "metadata": {},
     "output_type": "execute_result"
    },
    {
     "data": {
      "image/png": "[encoded data removed]",
      "text/plain": [
       "<Figure size 748.8x514.8 with 1 Axes>"
      ]
     },
     "metadata": {},
     "output_type": "display_data"
    }
   ],
   "source": [
    "# 2. Qual é o tempo médio de atraso para cada produto cuja entrega atrasa?\n",
    "df_atraso = df.loc[df['atraso'] == 1]\n",
    "df_atraso['tempo-entrega'].groupby(df_atraso['Produto']).mean().sort_values(ascending = True).plot(kind = \"bar\")\n"
   ]
  },
  {
   "cell_type": "code",
   "execution_count": 17,
   "id": "5575ff7b",
   "metadata": {},
   "outputs": [
    {
     "data": {
      "text/plain": [
       "['Produto',\n",
       " 'dia-da-semana',\n",
       " 'hora-do-pedido',\n",
       " 'tempo-entrega',\n",
       " 'tempo-entrega-real',\n",
       " 'data-pedido',\n",
       " 'valor',\n",
       " 'atraso',\n",
       " 'avaliacao']"
      ]
     },
     "execution_count": 17,
     "metadata": {},
     "output_type": "execute_result"
    }
   ],
   "source": [
    "list(df)"
   ]
  },
  {
   "cell_type": "code",
   "execution_count": 18,
   "id": "9c5a980b",
   "metadata": {
    "scrolled": false
   },
   "outputs": [
    {
     "data": {
      "text/html": [
       "<div>\n",
       "<style scoped>\n",
       "    .dataframe tbody tr th:only-of-type {\n",
       "        vertical-align: middle;\n",
       "    }\n",
       "\n",
       "    .dataframe tbody tr th {\n",
       "        vertical-align: top;\n",
       "    }\n",
       "\n",
       "    .dataframe thead th {\n",
       "        text-align: right;\n",
       "    }\n",
       "</style>\n",
       "<table border=\"1\" class=\"dataframe\">\n",
       "  <thead>\n",
       "    <tr style=\"text-align: right;\">\n",
       "      <th></th>\n",
       "      <th>Produto</th>\n",
       "      <th>tempo-entrega</th>\n",
       "      <th>tempo-entrega-real</th>\n",
       "      <th>taxa_tempo_entrega</th>\n",
       "    </tr>\n",
       "  </thead>\n",
       "  <tbody>\n",
       "    <tr>\n",
       "      <th>0</th>\n",
       "      <td>A</td>\n",
       "      <td>15.0</td>\n",
       "      <td>15.0</td>\n",
       "      <td>0.00</td>\n",
       "    </tr>\n",
       "    <tr>\n",
       "      <th>1</th>\n",
       "      <td>A</td>\n",
       "      <td>15.0</td>\n",
       "      <td>60.0</td>\n",
       "      <td>300.00</td>\n",
       "    </tr>\n",
       "    <tr>\n",
       "      <th>2</th>\n",
       "      <td>B</td>\n",
       "      <td>30.0</td>\n",
       "      <td>30.0</td>\n",
       "      <td>0.00</td>\n",
       "    </tr>\n",
       "    <tr>\n",
       "      <th>3</th>\n",
       "      <td>A</td>\n",
       "      <td>45.0</td>\n",
       "      <td>15.0</td>\n",
       "      <td>-66.67</td>\n",
       "    </tr>\n",
       "    <tr>\n",
       "      <th>4</th>\n",
       "      <td>B</td>\n",
       "      <td>60.0</td>\n",
       "      <td>75.0</td>\n",
       "      <td>25.00</td>\n",
       "    </tr>\n",
       "    <tr>\n",
       "      <th>...</th>\n",
       "      <td>...</td>\n",
       "      <td>...</td>\n",
       "      <td>...</td>\n",
       "      <td>...</td>\n",
       "    </tr>\n",
       "    <tr>\n",
       "      <th>525</th>\n",
       "      <td>G</td>\n",
       "      <td>50.0</td>\n",
       "      <td>130.0</td>\n",
       "      <td>160.00</td>\n",
       "    </tr>\n",
       "    <tr>\n",
       "      <th>526</th>\n",
       "      <td>B</td>\n",
       "      <td>165.0</td>\n",
       "      <td>160.0</td>\n",
       "      <td>-3.03</td>\n",
       "    </tr>\n",
       "    <tr>\n",
       "      <th>527</th>\n",
       "      <td>F</td>\n",
       "      <td>35.0</td>\n",
       "      <td>60.0</td>\n",
       "      <td>71.43</td>\n",
       "    </tr>\n",
       "    <tr>\n",
       "      <th>528</th>\n",
       "      <td>H</td>\n",
       "      <td>90.0</td>\n",
       "      <td>110.0</td>\n",
       "      <td>22.22</td>\n",
       "    </tr>\n",
       "    <tr>\n",
       "      <th>529</th>\n",
       "      <td>E</td>\n",
       "      <td>95.0</td>\n",
       "      <td>125.0</td>\n",
       "      <td>31.58</td>\n",
       "    </tr>\n",
       "  </tbody>\n",
       "</table>\n",
       "<p>530 rows × 4 columns</p>\n",
       "</div>"
      ],
      "text/plain": [
       "    Produto  tempo-entrega  tempo-entrega-real  taxa_tempo_entrega\n",
       "0         A           15.0                15.0                0.00\n",
       "1         A           15.0                60.0              300.00\n",
       "2         B           30.0                30.0                0.00\n",
       "3         A           45.0                15.0              -66.67\n",
       "4         B           60.0                75.0               25.00\n",
       "..      ...            ...                 ...                 ...\n",
       "525       G           50.0               130.0              160.00\n",
       "526       B          165.0               160.0               -3.03\n",
       "527       F           35.0                60.0               71.43\n",
       "528       H           90.0               110.0               22.22\n",
       "529       E           95.0               125.0               31.58\n",
       "\n",
       "[530 rows x 4 columns]"
      ]
     },
     "execution_count": 18,
     "metadata": {},
     "output_type": "execute_result"
    }
   ],
   "source": [
    "# 3. Qual a taxa média de atraso nas entregas (percentual de aumento em relação ao previsto)?\n",
    "df['taxa_tempo_entrega'] = (((df['tempo-entrega-real'] - df['tempo-entrega']) / df['tempo-entrega'])*100).round(2)\n",
    "df[['Produto','tempo-entrega','tempo-entrega-real','taxa_tempo_entrega']]"
   ]
  },
  {
   "cell_type": "code",
   "execution_count": 19,
   "id": "2c14074b",
   "metadata": {
    "scrolled": true
   },
   "outputs": [
    {
     "data": {
      "text/html": [
       "<div>\n",
       "<style scoped>\n",
       "    .dataframe tbody tr th:only-of-type {\n",
       "        vertical-align: middle;\n",
       "    }\n",
       "\n",
       "    .dataframe tbody tr th {\n",
       "        vertical-align: top;\n",
       "    }\n",
       "\n",
       "    .dataframe thead th {\n",
       "        text-align: right;\n",
       "    }\n",
       "</style>\n",
       "<table border=\"1\" class=\"dataframe\">\n",
       "  <thead>\n",
       "    <tr style=\"text-align: right;\">\n",
       "      <th></th>\n",
       "      <th>tempo-entrega</th>\n",
       "      <th>tempo-entrega-real</th>\n",
       "      <th>taxa_tempo_entrega</th>\n",
       "    </tr>\n",
       "    <tr>\n",
       "      <th>Produto</th>\n",
       "      <th></th>\n",
       "      <th></th>\n",
       "      <th></th>\n",
       "    </tr>\n",
       "  </thead>\n",
       "  <tbody>\n",
       "    <tr>\n",
       "      <th>A</th>\n",
       "      <td>78.08</td>\n",
       "      <td>90.38</td>\n",
       "      <td>103.67</td>\n",
       "    </tr>\n",
       "    <tr>\n",
       "      <th>B</th>\n",
       "      <td>84.11</td>\n",
       "      <td>84.52</td>\n",
       "      <td>131.32</td>\n",
       "    </tr>\n",
       "    <tr>\n",
       "      <th>C</th>\n",
       "      <td>87.81</td>\n",
       "      <td>82.02</td>\n",
       "      <td>71.08</td>\n",
       "    </tr>\n",
       "    <tr>\n",
       "      <th>D</th>\n",
       "      <td>84.00</td>\n",
       "      <td>85.88</td>\n",
       "      <td>131.08</td>\n",
       "    </tr>\n",
       "    <tr>\n",
       "      <th>E</th>\n",
       "      <td>91.88</td>\n",
       "      <td>86.25</td>\n",
       "      <td>102.22</td>\n",
       "    </tr>\n",
       "    <tr>\n",
       "      <th>F</th>\n",
       "      <td>91.32</td>\n",
       "      <td>88.07</td>\n",
       "      <td>81.75</td>\n",
       "    </tr>\n",
       "    <tr>\n",
       "      <th>G</th>\n",
       "      <td>90.08</td>\n",
       "      <td>86.78</td>\n",
       "      <td>77.96</td>\n",
       "    </tr>\n",
       "    <tr>\n",
       "      <th>H</th>\n",
       "      <td>83.85</td>\n",
       "      <td>92.02</td>\n",
       "      <td>129.32</td>\n",
       "    </tr>\n",
       "    <tr>\n",
       "      <th>I</th>\n",
       "      <td>102.22</td>\n",
       "      <td>93.89</td>\n",
       "      <td>111.00</td>\n",
       "    </tr>\n",
       "    <tr>\n",
       "      <th>V</th>\n",
       "      <td>45.00</td>\n",
       "      <td>90.00</td>\n",
       "      <td>100.00</td>\n",
       "    </tr>\n",
       "    <tr>\n",
       "      <th>X</th>\n",
       "      <td>30.00</td>\n",
       "      <td>30.00</td>\n",
       "      <td>0.00</td>\n",
       "    </tr>\n",
       "  </tbody>\n",
       "</table>\n",
       "</div>"
      ],
      "text/plain": [
       "         tempo-entrega  tempo-entrega-real  taxa_tempo_entrega\n",
       "Produto                                                       \n",
       "A                78.08               90.38              103.67\n",
       "B                84.11               84.52              131.32\n",
       "C                87.81               82.02               71.08\n",
       "D                84.00               85.88              131.08\n",
       "E                91.88               86.25              102.22\n",
       "F                91.32               88.07               81.75\n",
       "G                90.08               86.78               77.96\n",
       "H                83.85               92.02              129.32\n",
       "I               102.22               93.89              111.00\n",
       "V                45.00               90.00              100.00\n",
       "X                30.00               30.00                0.00"
      ]
     },
     "execution_count": 19,
     "metadata": {},
     "output_type": "execute_result"
    }
   ],
   "source": [
    "df[['tempo-entrega','tempo-entrega-real','taxa_tempo_entrega']].groupby(df['Produto']).mean().round(2)"
   ]
  },
  {
   "cell_type": "code",
   "execution_count": 20,
   "id": "857e28bd",
   "metadata": {
    "scrolled": true
   },
   "outputs": [
    {
     "data": {
      "text/plain": [
       "<AxesSubplot:xlabel='Produto'>"
      ]
     },
     "execution_count": 20,
     "metadata": {},
     "output_type": "execute_result"
    },
    {
     "data": {
      "image/png": "[encoded data removed]",
      "text/plain": [
       "<Figure size 748.8x514.8 with 1 Axes>"
      ]
     },
     "metadata": {},
     "output_type": "display_data"
    }
   ],
   "source": [
    "df[['tempo-entrega','tempo-entrega-real','taxa_tempo_entrega']].groupby(\n",
    "    df['Produto']).mean().round(2).plot.bar(\n",
    "    xlabel = 'Produto')"
   ]
  },
  {
   "cell_type": "code",
   "execution_count": 21,
   "id": "621fc5b3",
   "metadata": {
    "scrolled": false
   },
   "outputs": [
    {
     "data": {
      "text/plain": [
       "<AxesSubplot:xlabel='[Produtos]', ylabel='Tempo Médio de Entega'>"
      ]
     },
     "execution_count": 21,
     "metadata": {},
     "output_type": "execute_result"
    },
    {
     "data": {
      "image/png": "[encoded data removed]",
      "text/plain": [
       "<Figure size 748.8x514.8 with 1 Axes>"
      ]
     },
     "metadata": {},
     "output_type": "display_data"
    }
   ],
   "source": [
    "df['taxa_tempo_entrega'].groupby(df['Produto']).mean().plot(kind = \"line\", xlabel = ['Produtos'], ylabel = 'Tempo Médio de Entega')\n"
   ]
  },
  {
   "cell_type": "code",
   "execution_count": 22,
   "id": "6ed8079d",
   "metadata": {
    "scrolled": false
   },
   "outputs": [
    {
     "data": {
      "text/plain": [
       "<AxesSubplot:title={'center':'Produtos que Mais Sofreram Atrasos'}, ylabel='Produto'>"
      ]
     },
     "execution_count": 22,
     "metadata": {},
     "output_type": "execute_result"
    },
    {
     "data": {
      "image/png": "[encoded data removed]",
      "text/plain": [
       "<Figure size 748.8x514.8 with 1 Axes>"
      ]
     },
     "metadata": {},
     "output_type": "display_data"
    }
   ],
   "source": [
    "# 4. Quais produtos mais atrasam?\n",
    "plot_x1 = df['atraso'].loc[df['atraso'] == 1.0 ].groupby(\n",
    "    df['Produto']).count().sort_values(\n",
    "    ascending = False).plot(\n",
    "    kind = \"barh\", title = \"Produtos que Mais Sofreram Atrasos\")\n",
    "plot_x1"
   ]
  },
  {
   "cell_type": "code",
   "execution_count": 23,
   "id": "e241aa8e",
   "metadata": {},
   "outputs": [
    {
     "data": {
      "text/plain": [
       "['Produto',\n",
       " 'dia-da-semana',\n",
       " 'hora-do-pedido',\n",
       " 'tempo-entrega',\n",
       " 'tempo-entrega-real',\n",
       " 'data-pedido',\n",
       " 'valor',\n",
       " 'atraso',\n",
       " 'avaliacao',\n",
       " 'taxa_tempo_entrega']"
      ]
     },
     "execution_count": 23,
     "metadata": {},
     "output_type": "execute_result"
    }
   ],
   "source": [
    "list(df)"
   ]
  },
  {
   "cell_type": "code",
   "execution_count": 24,
   "id": "b77d06ca",
   "metadata": {},
   "outputs": [
    {
     "name": "stdout",
     "output_type": "stream",
     "text": [
      "Object `atrasos` not found.\n"
     ]
    },
    {
     "data": {
      "text/plain": [
       "<AxesSubplot:xlabel='Dias da Semana'>"
      ]
     },
     "execution_count": 24,
     "metadata": {},
     "output_type": "execute_result"
    },
    {
     "data": {
      "image/png": "[encoded data removed]",
      "text/plain": [
       "<Figure size 748.8x514.8 with 1 Axes>"
      ]
     },
     "metadata": {},
     "output_type": "display_data"
    }
   ],
   "source": [
    "5. Quais dias da semana mais têm pedidos? Há correlação com atrasos?\n",
    "df['dia-da-semana'].value_counts().sort_values(ascending = False).plot(kind = 'bar', xlabel = 'Dias da Semana', y = 'Qtd Pedidos')"
   ]
  },
  {
   "cell_type": "code",
   "execution_count": 25,
   "id": "db394163",
   "metadata": {
    "scrolled": true
   },
   "outputs": [
    {
     "name": "stdout",
     "output_type": "stream",
     "text": [
      "Object `correlação` not found.\n"
     ]
    },
    {
     "data": {
      "text/html": [
       "<div>\n",
       "<style scoped>\n",
       "    .dataframe tbody tr th:only-of-type {\n",
       "        vertical-align: middle;\n",
       "    }\n",
       "\n",
       "    .dataframe tbody tr th {\n",
       "        vertical-align: top;\n",
       "    }\n",
       "\n",
       "    .dataframe thead th {\n",
       "        text-align: right;\n",
       "    }\n",
       "</style>\n",
       "<table border=\"1\" class=\"dataframe\">\n",
       "  <thead>\n",
       "    <tr style=\"text-align: right;\">\n",
       "      <th></th>\n",
       "      <th>dia-da-semana</th>\n",
       "      <th>hora-do-pedido</th>\n",
       "      <th>tempo-entrega</th>\n",
       "      <th>tempo-entrega-real</th>\n",
       "      <th>valor</th>\n",
       "      <th>atraso</th>\n",
       "      <th>avaliacao</th>\n",
       "      <th>taxa_tempo_entrega</th>\n",
       "    </tr>\n",
       "  </thead>\n",
       "  <tbody>\n",
       "    <tr>\n",
       "      <th>dia-da-semana</th>\n",
       "      <td>1.000000</td>\n",
       "      <td>-0.015583</td>\n",
       "      <td>-0.080589</td>\n",
       "      <td>0.056255</td>\n",
       "      <td>0.026389</td>\n",
       "      <td>0.139897</td>\n",
       "      <td>-0.103655</td>\n",
       "      <td>0.044737</td>\n",
       "    </tr>\n",
       "    <tr>\n",
       "      <th>hora-do-pedido</th>\n",
       "      <td>-0.015583</td>\n",
       "      <td>1.000000</td>\n",
       "      <td>0.001039</td>\n",
       "      <td>0.062525</td>\n",
       "      <td>-0.321936</td>\n",
       "      <td>0.051042</td>\n",
       "      <td>-0.024409</td>\n",
       "      <td>0.058762</td>\n",
       "    </tr>\n",
       "    <tr>\n",
       "      <th>tempo-entrega</th>\n",
       "      <td>-0.080589</td>\n",
       "      <td>0.001039</td>\n",
       "      <td>1.000000</td>\n",
       "      <td>0.041335</td>\n",
       "      <td>0.030792</td>\n",
       "      <td>-0.592772</td>\n",
       "      <td>0.598883</td>\n",
       "      <td>-0.554419</td>\n",
       "    </tr>\n",
       "    <tr>\n",
       "      <th>tempo-entrega-real</th>\n",
       "      <td>0.056255</td>\n",
       "      <td>0.062525</td>\n",
       "      <td>0.041335</td>\n",
       "      <td>1.000000</td>\n",
       "      <td>-0.007085</td>\n",
       "      <td>0.532734</td>\n",
       "      <td>-0.480397</td>\n",
       "      <td>0.317941</td>\n",
       "    </tr>\n",
       "    <tr>\n",
       "      <th>valor</th>\n",
       "      <td>0.026389</td>\n",
       "      <td>-0.321936</td>\n",
       "      <td>0.030792</td>\n",
       "      <td>-0.007085</td>\n",
       "      <td>1.000000</td>\n",
       "      <td>-0.053227</td>\n",
       "      <td>0.032980</td>\n",
       "      <td>-0.061627</td>\n",
       "    </tr>\n",
       "    <tr>\n",
       "      <th>atraso</th>\n",
       "      <td>0.139897</td>\n",
       "      <td>0.051042</td>\n",
       "      <td>-0.592772</td>\n",
       "      <td>0.532734</td>\n",
       "      <td>-0.053227</td>\n",
       "      <td>1.000000</td>\n",
       "      <td>-0.921367</td>\n",
       "      <td>0.485493</td>\n",
       "    </tr>\n",
       "    <tr>\n",
       "      <th>avaliacao</th>\n",
       "      <td>-0.103655</td>\n",
       "      <td>-0.024409</td>\n",
       "      <td>0.598883</td>\n",
       "      <td>-0.480397</td>\n",
       "      <td>0.032980</td>\n",
       "      <td>-0.921367</td>\n",
       "      <td>1.000000</td>\n",
       "      <td>-0.493397</td>\n",
       "    </tr>\n",
       "    <tr>\n",
       "      <th>taxa_tempo_entrega</th>\n",
       "      <td>0.044737</td>\n",
       "      <td>0.058762</td>\n",
       "      <td>-0.554419</td>\n",
       "      <td>0.317941</td>\n",
       "      <td>-0.061627</td>\n",
       "      <td>0.485493</td>\n",
       "      <td>-0.493397</td>\n",
       "      <td>1.000000</td>\n",
       "    </tr>\n",
       "  </tbody>\n",
       "</table>\n",
       "</div>"
      ],
      "text/plain": [
       "                    dia-da-semana  hora-do-pedido  tempo-entrega  \\\n",
       "dia-da-semana            1.000000       -0.015583      -0.080589   \n",
       "hora-do-pedido          -0.015583        1.000000       0.001039   \n",
       "tempo-entrega           -0.080589        0.001039       1.000000   \n",
       "tempo-entrega-real       0.056255        0.062525       0.041335   \n",
       "valor                    0.026389       -0.321936       0.030792   \n",
       "atraso                   0.139897        0.051042      -0.592772   \n",
       "avaliacao               -0.103655       -0.024409       0.598883   \n",
       "taxa_tempo_entrega       0.044737        0.058762      -0.554419   \n",
       "\n",
       "                    tempo-entrega-real     valor    atraso  avaliacao  \\\n",
       "dia-da-semana                 0.056255  0.026389  0.139897  -0.103655   \n",
       "hora-do-pedido                0.062525 -0.321936  0.051042  -0.024409   \n",
       "tempo-entrega                 0.041335  0.030792 -0.592772   0.598883   \n",
       "tempo-entrega-real            1.000000 -0.007085  0.532734  -0.480397   \n",
       "valor                        -0.007085  1.000000 -0.053227   0.032980   \n",
       "atraso                        0.532734 -0.053227  1.000000  -0.921367   \n",
       "avaliacao                    -0.480397  0.032980 -0.921367   1.000000   \n",
       "taxa_tempo_entrega            0.317941 -0.061627  0.485493  -0.493397   \n",
       "\n",
       "                    taxa_tempo_entrega  \n",
       "dia-da-semana                 0.044737  \n",
       "hora-do-pedido                0.058762  \n",
       "tempo-entrega                -0.554419  \n",
       "tempo-entrega-real            0.317941  \n",
       "valor                        -0.061627  \n",
       "atraso                        0.485493  \n",
       "avaliacao                    -0.493397  \n",
       "taxa_tempo_entrega            1.000000  "
      ]
     },
     "execution_count": 25,
     "metadata": {},
     "output_type": "execute_result"
    }
   ],
   "source": [
    "6. Quais variáveis possuem correlação?\n",
    "df.corr()"
   ]
  },
  {
   "cell_type": "code",
   "execution_count": 26,
   "id": "68831ad2",
   "metadata": {},
   "outputs": [
    {
     "data": {
      "text/plain": [
       "<AxesSubplot:>"
      ]
     },
     "execution_count": 26,
     "metadata": {},
     "output_type": "execute_result"
    },
    {
     "data": {
      "image/png": "[encoded data removed]",
      "text/plain": [
       "<Figure size 748.8x514.8 with 2 Axes>"
      ]
     },
     "metadata": {},
     "output_type": "display_data"
    }
   ],
   "source": [
    "sns.heatmap(df.corr(), annot = True, fmt=\".1f\", linewidths=.6)"
   ]
  },
  {
   "cell_type": "code",
   "execution_count": 27,
   "id": "de190837",
   "metadata": {},
   "outputs": [
    {
     "data": {
      "text/plain": [
       "['Produto',\n",
       " 'dia-da-semana',\n",
       " 'hora-do-pedido',\n",
       " 'tempo-entrega',\n",
       " 'tempo-entrega-real',\n",
       " 'data-pedido',\n",
       " 'valor',\n",
       " 'atraso',\n",
       " 'avaliacao',\n",
       " 'taxa_tempo_entrega']"
      ]
     },
     "execution_count": 27,
     "metadata": {},
     "output_type": "execute_result"
    }
   ],
   "source": [
    "list(df)"
   ]
  },
  {
   "cell_type": "code",
   "execution_count": 28,
   "id": "ce44065a",
   "metadata": {},
   "outputs": [
    {
     "name": "stdout",
     "output_type": "stream",
     "text": [
      "Object `horário` not found.\n"
     ]
    },
    {
     "data": {
      "text/plain": [
       "<AxesSubplot:title={'center':'Qtd Pedidos por Horário'}, xlabel='Hora de Entrega', ylabel='Qtd de Pedidos'>"
      ]
     },
     "execution_count": 28,
     "metadata": {},
     "output_type": "execute_result"
    },
    {
     "data": {
      "image/png": "[encoded data removed]",
      "text/plain": [
       "<Figure size 748.8x514.8 with 1 Axes>"
      ]
     },
     "metadata": {},
     "output_type": "display_data"
    }
   ],
   "source": [
    "7. A maior parte dos pedidos são feitos em qual horário?\n",
    "df['hora-do-pedido'].value_counts().plot(kind = 'bar', xlabel = 'Hora de Entrega', ylabel = 'Qtd de Pedidos', title = 'Qtd Pedidos por Horário')"
   ]
  },
  {
   "cell_type": "code",
   "execution_count": 29,
   "id": "3b69f41f",
   "metadata": {},
   "outputs": [
    {
     "data": {
      "text/plain": [
       "['Produto',\n",
       " 'dia-da-semana',\n",
       " 'hora-do-pedido',\n",
       " 'tempo-entrega',\n",
       " 'tempo-entrega-real',\n",
       " 'data-pedido',\n",
       " 'valor',\n",
       " 'atraso',\n",
       " 'avaliacao']"
      ]
     },
     "execution_count": 29,
     "metadata": {},
     "output_type": "execute_result"
    }
   ],
   "source": [
    "list(df_copia)"
   ]
  },
  {
   "cell_type": "code",
   "execution_count": 30,
   "id": "bf06c085",
   "metadata": {
    "scrolled": true
   },
   "outputs": [],
   "source": [
    "#8. Quais campos possuem valores ausentes? Como preenchê-los?\n",
    "# DataFrame.fillna(value=None, method=None, axis=None, inplace=False, limit=None, downcast=None, **kwargs\n",
    "#df_copia['dia-da-semana'].fillna(value = df_copia['dia-da-semana'].median, inplace = True)\n",
    "#df_copia['hora-do-pedido'].fillna(value = df_copia['hora-do-pedido'].median,  inplace = True)\n",
    "#df_copia['tempo-entrega'].fillna(value = df_copia['tempo-entrega'].median,  inplace = True)\n",
    "#df_copia['tempo-entrega-real'].fillna(value = df_copia['tempo-entrega-real'].median,  inplace = True)\n",
    "#df_copia['data-pedido'].fillna(value = df_copia['data-pedido'].median,  inplace = True)\n",
    "#df_copia['valor'].fillna(value = df_copia['valor'].median,  inplace = True)\n",
    "#df_copia['atraso'].fillna(value = df_copia['atraso'].median,  inplace = True)\n",
    "#df_copia['avaliacao'].fillna(value = df_copia['avaliacao'].median,  inplace = True)"
   ]
  },
  {
   "cell_type": "code",
   "execution_count": 31,
   "id": "cf7ee293",
   "metadata": {
    "scrolled": false
   },
   "outputs": [
    {
     "data": {
      "text/plain": [
       "<seaborn.axisgrid.PairGrid at 0x22573cbd508>"
      ]
     },
     "execution_count": 31,
     "metadata": {},
     "output_type": "execute_result"
    },
    {
     "data": {
      "image/png": "[encoded data removed]",
      "text/plain": [
       "<Figure size 360x360 with 6 Axes>"
      ]
     },
     "metadata": {},
     "output_type": "display_data"
    }
   ],
   "source": [
    "# 9. As avaliações dos pedidos podem ser explicadas pela variável atraso?\n",
    "\n",
    "sns.pairplot(df[['atraso','avaliacao']])"
   ]
  },
  {
   "cell_type": "code",
   "execution_count": 32,
   "id": "6fb50cbf",
   "metadata": {},
   "outputs": [
    {
     "data": {
      "text/plain": [
       "-0.9213671408976012"
      ]
     },
     "execution_count": 32,
     "metadata": {},
     "output_type": "execute_result"
    }
   ],
   "source": [
    "# Correlação entre as variáveis\n",
    "\n",
    "df['avaliacao'].corr(df['atraso'])"
   ]
  },
  {
   "cell_type": "code",
   "execution_count": 33,
   "id": "15850271",
   "metadata": {
    "scrolled": false
   },
   "outputs": [
    {
     "data": {
      "text/plain": [
       "<AxesSubplot:>"
      ]
     },
     "execution_count": 33,
     "metadata": {},
     "output_type": "execute_result"
    },
    {
     "data": {
      "image/png": "[encoded data removed]",
      "text/plain": [
       "<Figure size 748.8x514.8 with 2 Axes>"
      ]
     },
     "metadata": {},
     "output_type": "display_data"
    }
   ],
   "source": [
    "# Matriz de correlação entre Atraso e Avaliação - Mostra uma correlação negativa (Quando o Atraso cresce, a avaliação decresce)\n",
    "\n",
    "sns.heatmap(df[['avaliacao','atraso']].corr(), annot = True, fmt=\".1f\", linewidths=.6)"
   ]
  },
  {
   "cell_type": "markdown",
   "id": "2ce17d6e",
   "metadata": {},
   "source": [
    "# Atividade 4"
   ]
  },
  {
   "cell_type": "code",
   "execution_count": null,
   "id": "a6a21d60",
   "metadata": {},
   "outputs": [],
   "source": [
    "* Verifique a covariância entre as variáveis tempo de entrega real e avaliação;\n",
    "* Verifique a correlação entre as variáveis;\n",
    "* Apresente o gráfico de dispersão entre as duas variáveis.\n",
    "* Respite o experimento anterior, mas, dessa vez, analise apenas as\n",
    "avaliações com valores entre 8 e 10"
   ]
  },
  {
   "cell_type": "code",
   "execution_count": 35,
   "id": "a7350578",
   "metadata": {},
   "outputs": [
    {
     "data": {
      "text/plain": [
       "['Produto',\n",
       " 'dia-da-semana',\n",
       " 'hora-do-pedido',\n",
       " 'tempo-entrega',\n",
       " 'tempo-entrega-real',\n",
       " 'data-pedido',\n",
       " 'valor',\n",
       " 'atraso',\n",
       " 'avaliacao',\n",
       " 'taxa_tempo_entrega']"
      ]
     },
     "execution_count": 35,
     "metadata": {},
     "output_type": "execute_result"
    }
   ],
   "source": [
    "list(df)"
   ]
  },
  {
   "cell_type": "code",
   "execution_count": 37,
   "id": "2113f706",
   "metadata": {
    "scrolled": true
   },
   "outputs": [
    {
     "data": {
      "text/html": [
       "<div>\n",
       "<style scoped>\n",
       "    .dataframe tbody tr th:only-of-type {\n",
       "        vertical-align: middle;\n",
       "    }\n",
       "\n",
       "    .dataframe tbody tr th {\n",
       "        vertical-align: top;\n",
       "    }\n",
       "\n",
       "    .dataframe thead th {\n",
       "        text-align: right;\n",
       "    }\n",
       "</style>\n",
       "<table border=\"1\" class=\"dataframe\">\n",
       "  <thead>\n",
       "    <tr style=\"text-align: right;\">\n",
       "      <th></th>\n",
       "      <th>tempo-entrega-real</th>\n",
       "      <th>avaliacao</th>\n",
       "    </tr>\n",
       "  </thead>\n",
       "  <tbody>\n",
       "    <tr>\n",
       "      <th>tempo-entrega-real</th>\n",
       "      <td>1.000000</td>\n",
       "      <td>-0.480397</td>\n",
       "    </tr>\n",
       "    <tr>\n",
       "      <th>avaliacao</th>\n",
       "      <td>-0.480397</td>\n",
       "      <td>1.000000</td>\n",
       "    </tr>\n",
       "  </tbody>\n",
       "</table>\n",
       "</div>"
      ],
      "text/plain": [
       "                    tempo-entrega-real  avaliacao\n",
       "tempo-entrega-real            1.000000  -0.480397\n",
       "avaliacao                    -0.480397   1.000000"
      ]
     },
     "execution_count": 37,
     "metadata": {},
     "output_type": "execute_result"
    }
   ],
   "source": [
    "df[['tempo-entrega-real','avaliacao']].corr()"
   ]
  },
  {
   "cell_type": "code",
   "execution_count": 38,
   "id": "2385368a",
   "metadata": {},
   "outputs": [
    {
     "data": {
      "text/plain": [
       "-0.48039683567790287"
      ]
     },
     "execution_count": 38,
     "metadata": {},
     "output_type": "execute_result"
    }
   ],
   "source": [
    "# Correlação\n",
    "df['avaliacao'].corr(df['tempo-entrega-real'])"
   ]
  },
  {
   "cell_type": "code",
   "execution_count": 39,
   "id": "56f890d8",
   "metadata": {
    "scrolled": true
   },
   "outputs": [
    {
     "data": {
      "text/html": [
       "<div>\n",
       "<style scoped>\n",
       "    .dataframe tbody tr th:only-of-type {\n",
       "        vertical-align: middle;\n",
       "    }\n",
       "\n",
       "    .dataframe tbody tr th {\n",
       "        vertical-align: top;\n",
       "    }\n",
       "\n",
       "    .dataframe thead th {\n",
       "        text-align: right;\n",
       "    }\n",
       "</style>\n",
       "<table border=\"1\" class=\"dataframe\">\n",
       "  <thead>\n",
       "    <tr style=\"text-align: right;\">\n",
       "      <th></th>\n",
       "      <th>tempo-entrega-real</th>\n",
       "      <th>avaliacao</th>\n",
       "    </tr>\n",
       "  </thead>\n",
       "  <tbody>\n",
       "    <tr>\n",
       "      <th>tempo-entrega-real</th>\n",
       "      <td>2461.256197</td>\n",
       "      <td>-85.040054</td>\n",
       "    </tr>\n",
       "    <tr>\n",
       "      <th>avaliacao</th>\n",
       "      <td>-85.040054</td>\n",
       "      <td>12.731804</td>\n",
       "    </tr>\n",
       "  </tbody>\n",
       "</table>\n",
       "</div>"
      ],
      "text/plain": [
       "                    tempo-entrega-real  avaliacao\n",
       "tempo-entrega-real         2461.256197 -85.040054\n",
       "avaliacao                   -85.040054  12.731804"
      ]
     },
     "execution_count": 39,
     "metadata": {},
     "output_type": "execute_result"
    }
   ],
   "source": [
    "# Covariância\n",
    "df[['tempo-entrega-real','avaliacao']].cov()"
   ]
  },
  {
   "cell_type": "code",
   "execution_count": 40,
   "id": "b281efc4",
   "metadata": {},
   "outputs": [
    {
     "data": {
      "text/plain": [
       "-85.04005421407425"
      ]
     },
     "execution_count": 40,
     "metadata": {},
     "output_type": "execute_result"
    }
   ],
   "source": [
    "df['avaliacao'].cov(df['tempo-entrega-real'])"
   ]
  },
  {
   "cell_type": "code",
   "execution_count": 88,
   "id": "8f260112",
   "metadata": {
    "scrolled": false
   },
   "outputs": [
    {
     "data": {
      "text/plain": [
       "[<matplotlib.lines.Line2D at 0x225776d3848>]"
      ]
     },
     "execution_count": 88,
     "metadata": {},
     "output_type": "execute_result"
    },
    {
     "data": {
      "image/png": "[encoded data removed]",
      "text/plain": [
       "<Figure size 748.8x514.8 with 1 Axes>"
      ]
     },
     "metadata": {},
     "output_type": "display_data"
    }
   ],
   "source": [
    "# Dispersão\n",
    "sns.scatterplot(data = df, y = df['tempo-entrega-real'], x = df['avaliacao'], hue = df['avaliacao'] )\n",
    "plt.plot([5,5],[5,200], linewidth=2, color='red')\n",
    "plt.plot([0,10],[125,125], linewidth=2, color='red')\n",
    "\n"
   ]
  },
  {
   "cell_type": "code",
   "execution_count": 58,
   "id": "5b66452e",
   "metadata": {
    "scrolled": true
   },
   "outputs": [
    {
     "data": {
      "text/plain": [
       "avaliacao\n",
       "0.0     48\n",
       "1.0     47\n",
       "2.0     42\n",
       "3.0     53\n",
       "4.0     41\n",
       "5.0     10\n",
       "6.0      8\n",
       "7.0      8\n",
       "8.0     98\n",
       "9.0     94\n",
       "10.0    81\n",
       "Name: tempo-entrega-real, dtype: int64"
      ]
     },
     "execution_count": 58,
     "metadata": {},
     "output_type": "execute_result"
    }
   ],
   "source": [
    "df['tempo-entrega-real'].groupby(df['avaliacao']).count()"
   ]
  },
  {
   "cell_type": "markdown",
   "id": "3c4ed3ce",
   "metadata": {},
   "source": [
    "# Análise do tempo de entrega com avaliação entre 8 e 10"
   ]
  },
  {
   "cell_type": "code",
   "execution_count": 63,
   "id": "287800c9",
   "metadata": {
    "scrolled": false
   },
   "outputs": [
    {
     "data": {
      "text/html": [
       "<div>\n",
       "<style scoped>\n",
       "    .dataframe tbody tr th:only-of-type {\n",
       "        vertical-align: middle;\n",
       "    }\n",
       "\n",
       "    .dataframe tbody tr th {\n",
       "        vertical-align: top;\n",
       "    }\n",
       "\n",
       "    .dataframe thead th {\n",
       "        text-align: right;\n",
       "    }\n",
       "</style>\n",
       "<table border=\"1\" class=\"dataframe\">\n",
       "  <thead>\n",
       "    <tr style=\"text-align: right;\">\n",
       "      <th></th>\n",
       "      <th>Produto</th>\n",
       "      <th>dia-da-semana</th>\n",
       "      <th>hora-do-pedido</th>\n",
       "      <th>tempo-entrega</th>\n",
       "      <th>tempo-entrega-real</th>\n",
       "      <th>data-pedido</th>\n",
       "      <th>valor</th>\n",
       "      <th>atraso</th>\n",
       "      <th>avaliacao</th>\n",
       "      <th>taxa_tempo_entrega</th>\n",
       "    </tr>\n",
       "  </thead>\n",
       "  <tbody>\n",
       "    <tr>\n",
       "      <th>0</th>\n",
       "      <td>A</td>\n",
       "      <td>4.0</td>\n",
       "      <td>14.0</td>\n",
       "      <td>15.0</td>\n",
       "      <td>15.0</td>\n",
       "      <td>12/24/2020</td>\n",
       "      <td>39.0</td>\n",
       "      <td>0.0</td>\n",
       "      <td>10.0</td>\n",
       "      <td>0.00</td>\n",
       "    </tr>\n",
       "    <tr>\n",
       "      <th>2</th>\n",
       "      <td>B</td>\n",
       "      <td>7.0</td>\n",
       "      <td>14.0</td>\n",
       "      <td>30.0</td>\n",
       "      <td>30.0</td>\n",
       "      <td>12/27/2020</td>\n",
       "      <td>30.0</td>\n",
       "      <td>0.0</td>\n",
       "      <td>9.0</td>\n",
       "      <td>0.00</td>\n",
       "    </tr>\n",
       "    <tr>\n",
       "      <th>3</th>\n",
       "      <td>A</td>\n",
       "      <td>3.0</td>\n",
       "      <td>13.0</td>\n",
       "      <td>45.0</td>\n",
       "      <td>15.0</td>\n",
       "      <td>12/17/2020</td>\n",
       "      <td>44.0</td>\n",
       "      <td>0.0</td>\n",
       "      <td>8.0</td>\n",
       "      <td>-66.67</td>\n",
       "    </tr>\n",
       "    <tr>\n",
       "      <th>5</th>\n",
       "      <td>B</td>\n",
       "      <td>6.0</td>\n",
       "      <td>11.0</td>\n",
       "      <td>30.0</td>\n",
       "      <td>30.0</td>\n",
       "      <td>12/2/2020</td>\n",
       "      <td>44.0</td>\n",
       "      <td>0.0</td>\n",
       "      <td>8.0</td>\n",
       "      <td>0.00</td>\n",
       "    </tr>\n",
       "    <tr>\n",
       "      <th>6</th>\n",
       "      <td>B</td>\n",
       "      <td>1.0</td>\n",
       "      <td>11.0</td>\n",
       "      <td>75.0</td>\n",
       "      <td>15.0</td>\n",
       "      <td>12/2/2020</td>\n",
       "      <td>24.0</td>\n",
       "      <td>0.0</td>\n",
       "      <td>8.0</td>\n",
       "      <td>-80.00</td>\n",
       "    </tr>\n",
       "    <tr>\n",
       "      <th>...</th>\n",
       "      <td>...</td>\n",
       "      <td>...</td>\n",
       "      <td>...</td>\n",
       "      <td>...</td>\n",
       "      <td>...</td>\n",
       "      <td>...</td>\n",
       "      <td>...</td>\n",
       "      <td>...</td>\n",
       "      <td>...</td>\n",
       "      <td>...</td>\n",
       "    </tr>\n",
       "    <tr>\n",
       "      <th>521</th>\n",
       "      <td>H</td>\n",
       "      <td>2.0</td>\n",
       "      <td>18.0</td>\n",
       "      <td>180.0</td>\n",
       "      <td>85.0</td>\n",
       "      <td>12/23/2020</td>\n",
       "      <td>93.0</td>\n",
       "      <td>0.0</td>\n",
       "      <td>9.0</td>\n",
       "      <td>-52.78</td>\n",
       "    </tr>\n",
       "    <tr>\n",
       "      <th>522</th>\n",
       "      <td>D</td>\n",
       "      <td>1.0</td>\n",
       "      <td>19.0</td>\n",
       "      <td>85.0</td>\n",
       "      <td>10.0</td>\n",
       "      <td>12/26/2020</td>\n",
       "      <td>10.0</td>\n",
       "      <td>0.0</td>\n",
       "      <td>9.0</td>\n",
       "      <td>-88.24</td>\n",
       "    </tr>\n",
       "    <tr>\n",
       "      <th>523</th>\n",
       "      <td>A</td>\n",
       "      <td>1.0</td>\n",
       "      <td>9.0</td>\n",
       "      <td>70.0</td>\n",
       "      <td>35.0</td>\n",
       "      <td>12/24/2020</td>\n",
       "      <td>20.0</td>\n",
       "      <td>0.0</td>\n",
       "      <td>9.0</td>\n",
       "      <td>-50.00</td>\n",
       "    </tr>\n",
       "    <tr>\n",
       "      <th>524</th>\n",
       "      <td>B</td>\n",
       "      <td>6.0</td>\n",
       "      <td>15.0</td>\n",
       "      <td>145.0</td>\n",
       "      <td>60.0</td>\n",
       "      <td>12/22/2020</td>\n",
       "      <td>13.0</td>\n",
       "      <td>0.0</td>\n",
       "      <td>8.0</td>\n",
       "      <td>-58.62</td>\n",
       "    </tr>\n",
       "    <tr>\n",
       "      <th>526</th>\n",
       "      <td>B</td>\n",
       "      <td>2.0</td>\n",
       "      <td>7.0</td>\n",
       "      <td>165.0</td>\n",
       "      <td>160.0</td>\n",
       "      <td>12/24/2020</td>\n",
       "      <td>97.0</td>\n",
       "      <td>0.0</td>\n",
       "      <td>8.0</td>\n",
       "      <td>-3.03</td>\n",
       "    </tr>\n",
       "  </tbody>\n",
       "</table>\n",
       "<p>273 rows × 10 columns</p>\n",
       "</div>"
      ],
      "text/plain": [
       "    Produto  dia-da-semana  hora-do-pedido  tempo-entrega  tempo-entrega-real  \\\n",
       "0         A            4.0            14.0           15.0                15.0   \n",
       "2         B            7.0            14.0           30.0                30.0   \n",
       "3         A            3.0            13.0           45.0                15.0   \n",
       "5         B            6.0            11.0           30.0                30.0   \n",
       "6         B            1.0            11.0           75.0                15.0   \n",
       "..      ...            ...             ...            ...                 ...   \n",
       "521       H            2.0            18.0          180.0                85.0   \n",
       "522       D            1.0            19.0           85.0                10.0   \n",
       "523       A            1.0             9.0           70.0                35.0   \n",
       "524       B            6.0            15.0          145.0                60.0   \n",
       "526       B            2.0             7.0          165.0               160.0   \n",
       "\n",
       "    data-pedido  valor  atraso  avaliacao  taxa_tempo_entrega  \n",
       "0    12/24/2020   39.0     0.0       10.0                0.00  \n",
       "2    12/27/2020   30.0     0.0        9.0                0.00  \n",
       "3    12/17/2020   44.0     0.0        8.0              -66.67  \n",
       "5     12/2/2020   44.0     0.0        8.0                0.00  \n",
       "6     12/2/2020   24.0     0.0        8.0              -80.00  \n",
       "..          ...    ...     ...        ...                 ...  \n",
       "521  12/23/2020   93.0     0.0        9.0              -52.78  \n",
       "522  12/26/2020   10.0     0.0        9.0              -88.24  \n",
       "523  12/24/2020   20.0     0.0        9.0              -50.00  \n",
       "524  12/22/2020   13.0     0.0        8.0              -58.62  \n",
       "526  12/24/2020   97.0     0.0        8.0               -3.03  \n",
       "\n",
       "[273 rows x 10 columns]"
      ]
     },
     "execution_count": 63,
     "metadata": {},
     "output_type": "execute_result"
    }
   ],
   "source": [
    "# Análise do tempo de entrega com avaliação entre 8 e 10\n",
    "df1 = df.loc[df['avaliacao'] > 7]\n",
    "df1"
   ]
  },
  {
   "cell_type": "code",
   "execution_count": 64,
   "id": "2d68f2bc",
   "metadata": {
    "scrolled": false
   },
   "outputs": [
    {
     "data": {
      "text/html": [
       "<div>\n",
       "<style scoped>\n",
       "    .dataframe tbody tr th:only-of-type {\n",
       "        vertical-align: middle;\n",
       "    }\n",
       "\n",
       "    .dataframe tbody tr th {\n",
       "        vertical-align: top;\n",
       "    }\n",
       "\n",
       "    .dataframe thead th {\n",
       "        text-align: right;\n",
       "    }\n",
       "</style>\n",
       "<table border=\"1\" class=\"dataframe\">\n",
       "  <thead>\n",
       "    <tr style=\"text-align: right;\">\n",
       "      <th></th>\n",
       "      <th>tempo-entrega-real</th>\n",
       "      <th>avaliacao</th>\n",
       "    </tr>\n",
       "  </thead>\n",
       "  <tbody>\n",
       "    <tr>\n",
       "      <th>0</th>\n",
       "      <td>15.0</td>\n",
       "      <td>10.0</td>\n",
       "    </tr>\n",
       "    <tr>\n",
       "      <th>2</th>\n",
       "      <td>30.0</td>\n",
       "      <td>9.0</td>\n",
       "    </tr>\n",
       "    <tr>\n",
       "      <th>3</th>\n",
       "      <td>15.0</td>\n",
       "      <td>8.0</td>\n",
       "    </tr>\n",
       "    <tr>\n",
       "      <th>5</th>\n",
       "      <td>30.0</td>\n",
       "      <td>8.0</td>\n",
       "    </tr>\n",
       "    <tr>\n",
       "      <th>6</th>\n",
       "      <td>15.0</td>\n",
       "      <td>8.0</td>\n",
       "    </tr>\n",
       "    <tr>\n",
       "      <th>...</th>\n",
       "      <td>...</td>\n",
       "      <td>...</td>\n",
       "    </tr>\n",
       "    <tr>\n",
       "      <th>521</th>\n",
       "      <td>85.0</td>\n",
       "      <td>9.0</td>\n",
       "    </tr>\n",
       "    <tr>\n",
       "      <th>522</th>\n",
       "      <td>10.0</td>\n",
       "      <td>9.0</td>\n",
       "    </tr>\n",
       "    <tr>\n",
       "      <th>523</th>\n",
       "      <td>35.0</td>\n",
       "      <td>9.0</td>\n",
       "    </tr>\n",
       "    <tr>\n",
       "      <th>524</th>\n",
       "      <td>60.0</td>\n",
       "      <td>8.0</td>\n",
       "    </tr>\n",
       "    <tr>\n",
       "      <th>526</th>\n",
       "      <td>160.0</td>\n",
       "      <td>8.0</td>\n",
       "    </tr>\n",
       "  </tbody>\n",
       "</table>\n",
       "<p>273 rows × 2 columns</p>\n",
       "</div>"
      ],
      "text/plain": [
       "     tempo-entrega-real  avaliacao\n",
       "0                  15.0       10.0\n",
       "2                  30.0        9.0\n",
       "3                  15.0        8.0\n",
       "5                  30.0        8.0\n",
       "6                  15.0        8.0\n",
       "..                  ...        ...\n",
       "521                85.0        9.0\n",
       "522                10.0        9.0\n",
       "523                35.0        9.0\n",
       "524                60.0        8.0\n",
       "526               160.0        8.0\n",
       "\n",
       "[273 rows x 2 columns]"
      ]
     },
     "execution_count": 64,
     "metadata": {},
     "output_type": "execute_result"
    }
   ],
   "source": [
    "df1[['tempo-entrega-real','avaliacao']]"
   ]
  },
  {
   "cell_type": "code",
   "execution_count": 65,
   "id": "3ef664fa",
   "metadata": {
    "scrolled": true
   },
   "outputs": [
    {
     "data": {
      "text/html": [
       "<div>\n",
       "<style scoped>\n",
       "    .dataframe tbody tr th:only-of-type {\n",
       "        vertical-align: middle;\n",
       "    }\n",
       "\n",
       "    .dataframe tbody tr th {\n",
       "        vertical-align: top;\n",
       "    }\n",
       "\n",
       "    .dataframe thead th {\n",
       "        text-align: right;\n",
       "    }\n",
       "</style>\n",
       "<table border=\"1\" class=\"dataframe\">\n",
       "  <thead>\n",
       "    <tr style=\"text-align: right;\">\n",
       "      <th></th>\n",
       "      <th>tempo-entrega-real</th>\n",
       "      <th>avaliacao</th>\n",
       "    </tr>\n",
       "  </thead>\n",
       "  <tbody>\n",
       "    <tr>\n",
       "      <th>tempo-entrega-real</th>\n",
       "      <td>1.000000</td>\n",
       "      <td>-0.028222</td>\n",
       "    </tr>\n",
       "    <tr>\n",
       "      <th>avaliacao</th>\n",
       "      <td>-0.028222</td>\n",
       "      <td>1.000000</td>\n",
       "    </tr>\n",
       "  </tbody>\n",
       "</table>\n",
       "</div>"
      ],
      "text/plain": [
       "                    tempo-entrega-real  avaliacao\n",
       "tempo-entrega-real            1.000000  -0.028222\n",
       "avaliacao                    -0.028222   1.000000"
      ]
     },
     "execution_count": 65,
     "metadata": {},
     "output_type": "execute_result"
    }
   ],
   "source": [
    "df1[['tempo-entrega-real','avaliacao']].corr()"
   ]
  },
  {
   "cell_type": "code",
   "execution_count": 66,
   "id": "0200cec4",
   "metadata": {},
   "outputs": [
    {
     "data": {
      "text/plain": [
       "-0.028221983860558904"
      ]
     },
     "execution_count": 66,
     "metadata": {},
     "output_type": "execute_result"
    }
   ],
   "source": [
    "df1['avaliacao'].corr(df['tempo-entrega-real'])"
   ]
  },
  {
   "cell_type": "code",
   "execution_count": 67,
   "id": "c30ee5d1",
   "metadata": {
    "scrolled": true
   },
   "outputs": [
    {
     "data": {
      "text/html": [
       "<div>\n",
       "<style scoped>\n",
       "    .dataframe tbody tr th:only-of-type {\n",
       "        vertical-align: middle;\n",
       "    }\n",
       "\n",
       "    .dataframe tbody tr th {\n",
       "        vertical-align: top;\n",
       "    }\n",
       "\n",
       "    .dataframe thead th {\n",
       "        text-align: right;\n",
       "    }\n",
       "</style>\n",
       "<table border=\"1\" class=\"dataframe\">\n",
       "  <thead>\n",
       "    <tr style=\"text-align: right;\">\n",
       "      <th></th>\n",
       "      <th>tempo-entrega-real</th>\n",
       "      <th>avaliacao</th>\n",
       "    </tr>\n",
       "  </thead>\n",
       "  <tbody>\n",
       "    <tr>\n",
       "      <th>tempo-entrega-real</th>\n",
       "      <td>1558.478103</td>\n",
       "      <td>-0.901139</td>\n",
       "    </tr>\n",
       "    <tr>\n",
       "      <th>avaliacao</th>\n",
       "      <td>-0.901139</td>\n",
       "      <td>0.654196</td>\n",
       "    </tr>\n",
       "  </tbody>\n",
       "</table>\n",
       "</div>"
      ],
      "text/plain": [
       "                    tempo-entrega-real  avaliacao\n",
       "tempo-entrega-real         1558.478103  -0.901139\n",
       "avaliacao                    -0.901139   0.654196"
      ]
     },
     "execution_count": 67,
     "metadata": {},
     "output_type": "execute_result"
    }
   ],
   "source": [
    "df1[['tempo-entrega-real','avaliacao']].cov()"
   ]
  },
  {
   "cell_type": "code",
   "execution_count": 68,
   "id": "a97680cd",
   "metadata": {},
   "outputs": [
    {
     "data": {
      "text/plain": [
       "-0.9011393018745963"
      ]
     },
     "execution_count": 68,
     "metadata": {},
     "output_type": "execute_result"
    }
   ],
   "source": [
    "df1['avaliacao'].cov(df['tempo-entrega-real'])"
   ]
  },
  {
   "cell_type": "code",
   "execution_count": 69,
   "id": "5dfd453b",
   "metadata": {
    "scrolled": false
   },
   "outputs": [
    {
     "data": {
      "text/plain": [
       "<AxesSubplot:xlabel='avaliacao', ylabel='tempo-entrega-real'>"
      ]
     },
     "execution_count": 69,
     "metadata": {},
     "output_type": "execute_result"
    },
    {
     "data": {
      "image/png": "[encoded data removed]",
      "text/plain": [
       "<Figure size 748.8x514.8 with 1 Axes>"
      ]
     },
     "metadata": {},
     "output_type": "display_data"
    }
   ],
   "source": [
    "sns.scatterplot(data = df1, y = df1['tempo-entrega-real'], x = df1['avaliacao'], hue = df1['avaliacao'] )"
   ]
  },
  {
   "cell_type": "markdown",
   "id": "1e66bb11",
   "metadata": {},
   "source": [
    "# Feature Engineering - Diferença entre Tempo de Entrega e Tempo Previsto"
   ]
  },
  {
   "cell_type": "code",
   "execution_count": null,
   "id": "732f1a57",
   "metadata": {},
   "outputs": [],
   "source": [
    "* Crie uma nova coluna de dados representando a diferença entre o tempo real de entrega e o tempo previsto;\n",
    "• Filtre apenas os registros em que houve atraso;\n",
    "• Verifique a variância e a correlação entre a nova variável e a avaliação do\n",
    "pedido."
   ]
  },
  {
   "cell_type": "code",
   "execution_count": 72,
   "id": "025f12d0",
   "metadata": {},
   "outputs": [],
   "source": [
    "df['dif_tempo'] = df['tempo-entrega-real'] - df['tempo-entrega']"
   ]
  },
  {
   "cell_type": "code",
   "execution_count": 73,
   "id": "72ac9b47",
   "metadata": {
    "scrolled": false
   },
   "outputs": [
    {
     "data": {
      "text/html": [
       "<div>\n",
       "<style scoped>\n",
       "    .dataframe tbody tr th:only-of-type {\n",
       "        vertical-align: middle;\n",
       "    }\n",
       "\n",
       "    .dataframe tbody tr th {\n",
       "        vertical-align: top;\n",
       "    }\n",
       "\n",
       "    .dataframe thead th {\n",
       "        text-align: right;\n",
       "    }\n",
       "</style>\n",
       "<table border=\"1\" class=\"dataframe\">\n",
       "  <thead>\n",
       "    <tr style=\"text-align: right;\">\n",
       "      <th></th>\n",
       "      <th>Produto</th>\n",
       "      <th>dia-da-semana</th>\n",
       "      <th>hora-do-pedido</th>\n",
       "      <th>tempo-entrega</th>\n",
       "      <th>tempo-entrega-real</th>\n",
       "      <th>data-pedido</th>\n",
       "      <th>valor</th>\n",
       "      <th>atraso</th>\n",
       "      <th>avaliacao</th>\n",
       "      <th>taxa_tempo_entrega</th>\n",
       "      <th>dif_tempo</th>\n",
       "    </tr>\n",
       "  </thead>\n",
       "  <tbody>\n",
       "    <tr>\n",
       "      <th>0</th>\n",
       "      <td>A</td>\n",
       "      <td>4.0</td>\n",
       "      <td>14.0</td>\n",
       "      <td>15.0</td>\n",
       "      <td>15.0</td>\n",
       "      <td>12/24/2020</td>\n",
       "      <td>39.0</td>\n",
       "      <td>0.0</td>\n",
       "      <td>10.0</td>\n",
       "      <td>0.00</td>\n",
       "      <td>0.0</td>\n",
       "    </tr>\n",
       "    <tr>\n",
       "      <th>1</th>\n",
       "      <td>A</td>\n",
       "      <td>7.0</td>\n",
       "      <td>13.0</td>\n",
       "      <td>15.0</td>\n",
       "      <td>60.0</td>\n",
       "      <td>12/16/2020</td>\n",
       "      <td>10.0</td>\n",
       "      <td>1.0</td>\n",
       "      <td>0.0</td>\n",
       "      <td>300.00</td>\n",
       "      <td>45.0</td>\n",
       "    </tr>\n",
       "    <tr>\n",
       "      <th>2</th>\n",
       "      <td>B</td>\n",
       "      <td>7.0</td>\n",
       "      <td>14.0</td>\n",
       "      <td>30.0</td>\n",
       "      <td>30.0</td>\n",
       "      <td>12/27/2020</td>\n",
       "      <td>30.0</td>\n",
       "      <td>0.0</td>\n",
       "      <td>9.0</td>\n",
       "      <td>0.00</td>\n",
       "      <td>0.0</td>\n",
       "    </tr>\n",
       "    <tr>\n",
       "      <th>3</th>\n",
       "      <td>A</td>\n",
       "      <td>3.0</td>\n",
       "      <td>13.0</td>\n",
       "      <td>45.0</td>\n",
       "      <td>15.0</td>\n",
       "      <td>12/17/2020</td>\n",
       "      <td>44.0</td>\n",
       "      <td>0.0</td>\n",
       "      <td>8.0</td>\n",
       "      <td>-66.67</td>\n",
       "      <td>-30.0</td>\n",
       "    </tr>\n",
       "    <tr>\n",
       "      <th>4</th>\n",
       "      <td>B</td>\n",
       "      <td>6.0</td>\n",
       "      <td>13.0</td>\n",
       "      <td>60.0</td>\n",
       "      <td>75.0</td>\n",
       "      <td>12/18/2020</td>\n",
       "      <td>23.0</td>\n",
       "      <td>1.0</td>\n",
       "      <td>1.0</td>\n",
       "      <td>25.00</td>\n",
       "      <td>15.0</td>\n",
       "    </tr>\n",
       "    <tr>\n",
       "      <th>...</th>\n",
       "      <td>...</td>\n",
       "      <td>...</td>\n",
       "      <td>...</td>\n",
       "      <td>...</td>\n",
       "      <td>...</td>\n",
       "      <td>...</td>\n",
       "      <td>...</td>\n",
       "      <td>...</td>\n",
       "      <td>...</td>\n",
       "      <td>...</td>\n",
       "      <td>...</td>\n",
       "    </tr>\n",
       "    <tr>\n",
       "      <th>525</th>\n",
       "      <td>G</td>\n",
       "      <td>5.0</td>\n",
       "      <td>21.0</td>\n",
       "      <td>50.0</td>\n",
       "      <td>130.0</td>\n",
       "      <td>12/23/2020</td>\n",
       "      <td>25.0</td>\n",
       "      <td>1.0</td>\n",
       "      <td>0.0</td>\n",
       "      <td>160.00</td>\n",
       "      <td>80.0</td>\n",
       "    </tr>\n",
       "    <tr>\n",
       "      <th>526</th>\n",
       "      <td>B</td>\n",
       "      <td>2.0</td>\n",
       "      <td>7.0</td>\n",
       "      <td>165.0</td>\n",
       "      <td>160.0</td>\n",
       "      <td>12/24/2020</td>\n",
       "      <td>97.0</td>\n",
       "      <td>0.0</td>\n",
       "      <td>8.0</td>\n",
       "      <td>-3.03</td>\n",
       "      <td>-5.0</td>\n",
       "    </tr>\n",
       "    <tr>\n",
       "      <th>527</th>\n",
       "      <td>F</td>\n",
       "      <td>1.0</td>\n",
       "      <td>5.0</td>\n",
       "      <td>35.0</td>\n",
       "      <td>60.0</td>\n",
       "      <td>12/8/2020</td>\n",
       "      <td>22.0</td>\n",
       "      <td>1.0</td>\n",
       "      <td>3.0</td>\n",
       "      <td>71.43</td>\n",
       "      <td>25.0</td>\n",
       "    </tr>\n",
       "    <tr>\n",
       "      <th>528</th>\n",
       "      <td>H</td>\n",
       "      <td>6.0</td>\n",
       "      <td>14.0</td>\n",
       "      <td>90.0</td>\n",
       "      <td>110.0</td>\n",
       "      <td>12/23/2020</td>\n",
       "      <td>72.0</td>\n",
       "      <td>1.0</td>\n",
       "      <td>0.0</td>\n",
       "      <td>22.22</td>\n",
       "      <td>20.0</td>\n",
       "    </tr>\n",
       "    <tr>\n",
       "      <th>529</th>\n",
       "      <td>E</td>\n",
       "      <td>6.0</td>\n",
       "      <td>1.0</td>\n",
       "      <td>95.0</td>\n",
       "      <td>125.0</td>\n",
       "      <td>12/10/2020</td>\n",
       "      <td>60.0</td>\n",
       "      <td>1.0</td>\n",
       "      <td>0.0</td>\n",
       "      <td>31.58</td>\n",
       "      <td>30.0</td>\n",
       "    </tr>\n",
       "  </tbody>\n",
       "</table>\n",
       "<p>530 rows × 11 columns</p>\n",
       "</div>"
      ],
      "text/plain": [
       "    Produto  dia-da-semana  hora-do-pedido  tempo-entrega  tempo-entrega-real  \\\n",
       "0         A            4.0            14.0           15.0                15.0   \n",
       "1         A            7.0            13.0           15.0                60.0   \n",
       "2         B            7.0            14.0           30.0                30.0   \n",
       "3         A            3.0            13.0           45.0                15.0   \n",
       "4         B            6.0            13.0           60.0                75.0   \n",
       "..      ...            ...             ...            ...                 ...   \n",
       "525       G            5.0            21.0           50.0               130.0   \n",
       "526       B            2.0             7.0          165.0               160.0   \n",
       "527       F            1.0             5.0           35.0                60.0   \n",
       "528       H            6.0            14.0           90.0               110.0   \n",
       "529       E            6.0             1.0           95.0               125.0   \n",
       "\n",
       "    data-pedido  valor  atraso  avaliacao  taxa_tempo_entrega  dif_tempo  \n",
       "0    12/24/2020   39.0     0.0       10.0                0.00        0.0  \n",
       "1    12/16/2020   10.0     1.0        0.0              300.00       45.0  \n",
       "2    12/27/2020   30.0     0.0        9.0                0.00        0.0  \n",
       "3    12/17/2020   44.0     0.0        8.0              -66.67      -30.0  \n",
       "4    12/18/2020   23.0     1.0        1.0               25.00       15.0  \n",
       "..          ...    ...     ...        ...                 ...        ...  \n",
       "525  12/23/2020   25.0     1.0        0.0              160.00       80.0  \n",
       "526  12/24/2020   97.0     0.0        8.0               -3.03       -5.0  \n",
       "527   12/8/2020   22.0     1.0        3.0               71.43       25.0  \n",
       "528  12/23/2020   72.0     1.0        0.0               22.22       20.0  \n",
       "529  12/10/2020   60.0     1.0        0.0               31.58       30.0  \n",
       "\n",
       "[530 rows x 11 columns]"
      ]
     },
     "execution_count": 73,
     "metadata": {},
     "output_type": "execute_result"
    }
   ],
   "source": [
    "df"
   ]
  },
  {
   "cell_type": "code",
   "execution_count": 74,
   "id": "09d0e4e3",
   "metadata": {
    "scrolled": false
   },
   "outputs": [
    {
     "data": {
      "text/html": [
       "<div>\n",
       "<style scoped>\n",
       "    .dataframe tbody tr th:only-of-type {\n",
       "        vertical-align: middle;\n",
       "    }\n",
       "\n",
       "    .dataframe tbody tr th {\n",
       "        vertical-align: top;\n",
       "    }\n",
       "\n",
       "    .dataframe thead th {\n",
       "        text-align: right;\n",
       "    }\n",
       "</style>\n",
       "<table border=\"1\" class=\"dataframe\">\n",
       "  <thead>\n",
       "    <tr style=\"text-align: right;\">\n",
       "      <th></th>\n",
       "      <th>Produto</th>\n",
       "      <th>dia-da-semana</th>\n",
       "      <th>hora-do-pedido</th>\n",
       "      <th>tempo-entrega</th>\n",
       "      <th>tempo-entrega-real</th>\n",
       "      <th>data-pedido</th>\n",
       "      <th>valor</th>\n",
       "      <th>atraso</th>\n",
       "      <th>avaliacao</th>\n",
       "      <th>taxa_tempo_entrega</th>\n",
       "      <th>dif_tempo</th>\n",
       "    </tr>\n",
       "  </thead>\n",
       "  <tbody>\n",
       "    <tr>\n",
       "      <th>3</th>\n",
       "      <td>A</td>\n",
       "      <td>3.0</td>\n",
       "      <td>13.0</td>\n",
       "      <td>45.0</td>\n",
       "      <td>15.0</td>\n",
       "      <td>12/17/2020</td>\n",
       "      <td>44.0</td>\n",
       "      <td>0.0</td>\n",
       "      <td>8.0</td>\n",
       "      <td>-66.67</td>\n",
       "      <td>-30.0</td>\n",
       "    </tr>\n",
       "    <tr>\n",
       "      <th>6</th>\n",
       "      <td>B</td>\n",
       "      <td>1.0</td>\n",
       "      <td>11.0</td>\n",
       "      <td>75.0</td>\n",
       "      <td>15.0</td>\n",
       "      <td>12/2/2020</td>\n",
       "      <td>24.0</td>\n",
       "      <td>0.0</td>\n",
       "      <td>8.0</td>\n",
       "      <td>-80.00</td>\n",
       "      <td>-60.0</td>\n",
       "    </tr>\n",
       "    <tr>\n",
       "      <th>10</th>\n",
       "      <td>C</td>\n",
       "      <td>2.0</td>\n",
       "      <td>13.0</td>\n",
       "      <td>30.0</td>\n",
       "      <td>15.0</td>\n",
       "      <td>12/30/2020</td>\n",
       "      <td>19.0</td>\n",
       "      <td>0.0</td>\n",
       "      <td>10.0</td>\n",
       "      <td>-50.00</td>\n",
       "      <td>-15.0</td>\n",
       "    </tr>\n",
       "    <tr>\n",
       "      <th>16</th>\n",
       "      <td>A</td>\n",
       "      <td>4.0</td>\n",
       "      <td>11.0</td>\n",
       "      <td>90.0</td>\n",
       "      <td>60.0</td>\n",
       "      <td>12/12/2020</td>\n",
       "      <td>28.0</td>\n",
       "      <td>0.0</td>\n",
       "      <td>10.0</td>\n",
       "      <td>-33.33</td>\n",
       "      <td>-30.0</td>\n",
       "    </tr>\n",
       "    <tr>\n",
       "      <th>18</th>\n",
       "      <td>E</td>\n",
       "      <td>5.0</td>\n",
       "      <td>11.0</td>\n",
       "      <td>75.0</td>\n",
       "      <td>15.0</td>\n",
       "      <td>12/10/2020</td>\n",
       "      <td>28.0</td>\n",
       "      <td>0.0</td>\n",
       "      <td>10.0</td>\n",
       "      <td>-80.00</td>\n",
       "      <td>-60.0</td>\n",
       "    </tr>\n",
       "    <tr>\n",
       "      <th>...</th>\n",
       "      <td>...</td>\n",
       "      <td>...</td>\n",
       "      <td>...</td>\n",
       "      <td>...</td>\n",
       "      <td>...</td>\n",
       "      <td>...</td>\n",
       "      <td>...</td>\n",
       "      <td>...</td>\n",
       "      <td>...</td>\n",
       "      <td>...</td>\n",
       "      <td>...</td>\n",
       "    </tr>\n",
       "    <tr>\n",
       "      <th>521</th>\n",
       "      <td>H</td>\n",
       "      <td>2.0</td>\n",
       "      <td>18.0</td>\n",
       "      <td>180.0</td>\n",
       "      <td>85.0</td>\n",
       "      <td>12/23/2020</td>\n",
       "      <td>93.0</td>\n",
       "      <td>0.0</td>\n",
       "      <td>9.0</td>\n",
       "      <td>-52.78</td>\n",
       "      <td>-95.0</td>\n",
       "    </tr>\n",
       "    <tr>\n",
       "      <th>522</th>\n",
       "      <td>D</td>\n",
       "      <td>1.0</td>\n",
       "      <td>19.0</td>\n",
       "      <td>85.0</td>\n",
       "      <td>10.0</td>\n",
       "      <td>12/26/2020</td>\n",
       "      <td>10.0</td>\n",
       "      <td>0.0</td>\n",
       "      <td>9.0</td>\n",
       "      <td>-88.24</td>\n",
       "      <td>-75.0</td>\n",
       "    </tr>\n",
       "    <tr>\n",
       "      <th>523</th>\n",
       "      <td>A</td>\n",
       "      <td>1.0</td>\n",
       "      <td>9.0</td>\n",
       "      <td>70.0</td>\n",
       "      <td>35.0</td>\n",
       "      <td>12/24/2020</td>\n",
       "      <td>20.0</td>\n",
       "      <td>0.0</td>\n",
       "      <td>9.0</td>\n",
       "      <td>-50.00</td>\n",
       "      <td>-35.0</td>\n",
       "    </tr>\n",
       "    <tr>\n",
       "      <th>524</th>\n",
       "      <td>B</td>\n",
       "      <td>6.0</td>\n",
       "      <td>15.0</td>\n",
       "      <td>145.0</td>\n",
       "      <td>60.0</td>\n",
       "      <td>12/22/2020</td>\n",
       "      <td>13.0</td>\n",
       "      <td>0.0</td>\n",
       "      <td>8.0</td>\n",
       "      <td>-58.62</td>\n",
       "      <td>-85.0</td>\n",
       "    </tr>\n",
       "    <tr>\n",
       "      <th>526</th>\n",
       "      <td>B</td>\n",
       "      <td>2.0</td>\n",
       "      <td>7.0</td>\n",
       "      <td>165.0</td>\n",
       "      <td>160.0</td>\n",
       "      <td>12/24/2020</td>\n",
       "      <td>97.0</td>\n",
       "      <td>0.0</td>\n",
       "      <td>8.0</td>\n",
       "      <td>-3.03</td>\n",
       "      <td>-5.0</td>\n",
       "    </tr>\n",
       "  </tbody>\n",
       "</table>\n",
       "<p>250 rows × 11 columns</p>\n",
       "</div>"
      ],
      "text/plain": [
       "    Produto  dia-da-semana  hora-do-pedido  tempo-entrega  tempo-entrega-real  \\\n",
       "3         A            3.0            13.0           45.0                15.0   \n",
       "6         B            1.0            11.0           75.0                15.0   \n",
       "10        C            2.0            13.0           30.0                15.0   \n",
       "16        A            4.0            11.0           90.0                60.0   \n",
       "18        E            5.0            11.0           75.0                15.0   \n",
       "..      ...            ...             ...            ...                 ...   \n",
       "521       H            2.0            18.0          180.0                85.0   \n",
       "522       D            1.0            19.0           85.0                10.0   \n",
       "523       A            1.0             9.0           70.0                35.0   \n",
       "524       B            6.0            15.0          145.0                60.0   \n",
       "526       B            2.0             7.0          165.0               160.0   \n",
       "\n",
       "    data-pedido  valor  atraso  avaliacao  taxa_tempo_entrega  dif_tempo  \n",
       "3    12/17/2020   44.0     0.0        8.0              -66.67      -30.0  \n",
       "6     12/2/2020   24.0     0.0        8.0              -80.00      -60.0  \n",
       "10   12/30/2020   19.0     0.0       10.0              -50.00      -15.0  \n",
       "16   12/12/2020   28.0     0.0       10.0              -33.33      -30.0  \n",
       "18   12/10/2020   28.0     0.0       10.0              -80.00      -60.0  \n",
       "..          ...    ...     ...        ...                 ...        ...  \n",
       "521  12/23/2020   93.0     0.0        9.0              -52.78      -95.0  \n",
       "522  12/26/2020   10.0     0.0        9.0              -88.24      -75.0  \n",
       "523  12/24/2020   20.0     0.0        9.0              -50.00      -35.0  \n",
       "524  12/22/2020   13.0     0.0        8.0              -58.62      -85.0  \n",
       "526  12/24/2020   97.0     0.0        8.0               -3.03       -5.0  \n",
       "\n",
       "[250 rows x 11 columns]"
      ]
     },
     "execution_count": 74,
     "metadata": {},
     "output_type": "execute_result"
    }
   ],
   "source": [
    "df2 = df.loc[df['dif_tempo'] < 0]"
   ]
  },
  {
   "cell_type": "code",
   "execution_count": 75,
   "id": "a3fb47a9",
   "metadata": {},
   "outputs": [],
   "source": [
    "df2 = df.loc[df['dif_tempo'] < 0]"
   ]
  },
  {
   "cell_type": "code",
   "execution_count": 79,
   "id": "cba352bc",
   "metadata": {
    "scrolled": false
   },
   "outputs": [
    {
     "data": {
      "text/html": [
       "<div>\n",
       "<style scoped>\n",
       "    .dataframe tbody tr th:only-of-type {\n",
       "        vertical-align: middle;\n",
       "    }\n",
       "\n",
       "    .dataframe tbody tr th {\n",
       "        vertical-align: top;\n",
       "    }\n",
       "\n",
       "    .dataframe thead th {\n",
       "        text-align: right;\n",
       "    }\n",
       "</style>\n",
       "<table border=\"1\" class=\"dataframe\">\n",
       "  <thead>\n",
       "    <tr style=\"text-align: right;\">\n",
       "      <th></th>\n",
       "      <th>dif_tempo</th>\n",
       "      <th>avaliacao</th>\n",
       "    </tr>\n",
       "  </thead>\n",
       "  <tbody>\n",
       "    <tr>\n",
       "      <th>dif_tempo</th>\n",
       "      <td>1.000000</td>\n",
       "      <td>0.002923</td>\n",
       "    </tr>\n",
       "    <tr>\n",
       "      <th>avaliacao</th>\n",
       "      <td>0.002923</td>\n",
       "      <td>1.000000</td>\n",
       "    </tr>\n",
       "  </tbody>\n",
       "</table>\n",
       "</div>"
      ],
      "text/plain": [
       "           dif_tempo  avaliacao\n",
       "dif_tempo   1.000000   0.002923\n",
       "avaliacao   0.002923   1.000000"
      ]
     },
     "execution_count": 79,
     "metadata": {},
     "output_type": "execute_result"
    }
   ],
   "source": [
    "df2[['dif_tempo', 'avaliacao']].corr()"
   ]
  },
  {
   "cell_type": "code",
   "execution_count": 80,
   "id": "0de6b45d",
   "metadata": {},
   "outputs": [
    {
     "data": {
      "text/plain": [
       "0.0029228152198506924"
      ]
     },
     "execution_count": 80,
     "metadata": {},
     "output_type": "execute_result"
    }
   ],
   "source": [
    "df2['avaliacao'].corr(df['dif_tempo'])"
   ]
  },
  {
   "cell_type": "code",
   "execution_count": 84,
   "id": "e1022b21",
   "metadata": {
    "scrolled": true
   },
   "outputs": [
    {
     "data": {
      "text/html": [
       "<div>\n",
       "<style scoped>\n",
       "    .dataframe tbody tr th:only-of-type {\n",
       "        vertical-align: middle;\n",
       "    }\n",
       "\n",
       "    .dataframe tbody tr th {\n",
       "        vertical-align: top;\n",
       "    }\n",
       "\n",
       "    .dataframe thead th {\n",
       "        text-align: right;\n",
       "    }\n",
       "</style>\n",
       "<table border=\"1\" class=\"dataframe\">\n",
       "  <thead>\n",
       "    <tr style=\"text-align: right;\">\n",
       "      <th></th>\n",
       "      <th>dif_tempo</th>\n",
       "      <th>avaliacao</th>\n",
       "    </tr>\n",
       "  </thead>\n",
       "  <tbody>\n",
       "    <tr>\n",
       "      <th>dif_tempo</th>\n",
       "      <td>1606.917671</td>\n",
       "      <td>0.095181</td>\n",
       "    </tr>\n",
       "    <tr>\n",
       "      <th>avaliacao</th>\n",
       "      <td>0.095181</td>\n",
       "      <td>0.659936</td>\n",
       "    </tr>\n",
       "  </tbody>\n",
       "</table>\n",
       "</div>"
      ],
      "text/plain": [
       "             dif_tempo  avaliacao\n",
       "dif_tempo  1606.917671   0.095181\n",
       "avaliacao     0.095181   0.659936"
      ]
     },
     "execution_count": 84,
     "metadata": {},
     "output_type": "execute_result"
    }
   ],
   "source": [
    "df2[['dif_tempo', 'avaliacao']].cov()"
   ]
  },
  {
   "cell_type": "code",
   "execution_count": 85,
   "id": "abe6764f",
   "metadata": {},
   "outputs": [
    {
     "data": {
      "text/plain": [
       "0.09518072289156516"
      ]
     },
     "execution_count": 85,
     "metadata": {},
     "output_type": "execute_result"
    }
   ],
   "source": [
    "df2['avaliacao'].cov(df['dif_tempo'])"
   ]
  },
  {
   "cell_type": "code",
   "execution_count": 87,
   "id": "05c18f76",
   "metadata": {
    "scrolled": false
   },
   "outputs": [
    {
     "data": {
      "text/plain": [
       "<AxesSubplot:>"
      ]
     },
     "execution_count": 87,
     "metadata": {},
     "output_type": "execute_result"
    },
    {
     "data": {
      "image/png": "[encoded data removed]",
      "text/plain": [
       "<Figure size 748.8x514.8 with 2 Axes>"
      ]
     },
     "metadata": {},
     "output_type": "display_data"
    }
   ],
   "source": [
    "sns.heatmap(df2[['dif_tempo', 'avaliacao']].corr(), annot = True, fmt=\".1f\", linewidths=.6)"
   ]
  }
 ],
 "metadata": {
  "kernelspec": {
   "display_name": "Python 3 (ipykernel)",
   "language": "python",
   "name": "python3"
  },
  "language_info": {
   "codemirror_mode": {
    "name": "ipython",
    "version": 3
   },
   "file_extension": ".py",
   "mimetype": "text/x-python",
   "name": "python",
   "nbconvert_exporter": "python",
   "pygments_lexer": "ipython3",
   "version": "3.7.11"
  }
 },
 "nbformat": 4,
 "nbformat_minor": 5
}
